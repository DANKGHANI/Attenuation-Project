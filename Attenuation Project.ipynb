{
 "cells": [
  {
   "cell_type": "markdown",
   "metadata": {},
   "source": [
    "# DATA "
   ]
  },
  {
   "cell_type": "code",
   "execution_count": 1,
   "metadata": {},
   "outputs": [],
   "source": [
    "import pandas as pd\n",
    "pd.set_option('display.max_rows',500)\n",
    "pd.set_option('display.max_columns',500)\n",
    "pd.set_option('display.width',500)\n",
    "import numpy as np\n",
    "from sklearn import preprocessing \n",
    "import matplotlib.pyplot as plt\n",
    "plt.rc('font',size=14)\n",
    "from sklearn.model_selection import train_test_split\n",
    "import seaborn as sns\n",
    "sns.set(style='white')\n",
    "sns.set(style='whitegrid',color_codes=True)\n",
    "import warnings\n",
    "warnings.filterwarnings(\"ignore\")\n",
    "import seaborn as sns\n",
    "from sklearn.tree import DecisionTreeClassifier"
   ]
  },
  {
   "cell_type": "code",
   "execution_count": 2,
   "metadata": {},
   "outputs": [],
   "source": [
    "df1=pd.read_csv('/Users/ghanishtaggarwal/Desktop/BA/Earthquake1.csv')\n",
    "df2=pd.read_csv('/Users/ghanishtaggarwal/Desktop/BA/Earthquake2.csv')"
   ]
  },
  {
   "cell_type": "code",
   "execution_count": 3,
   "metadata": {},
   "outputs": [],
   "source": [
    "df=pd.concat([df2,df1],axis=1).drop_duplicates().reset_index(drop=True)"
   ]
  },
  {
   "cell_type": "code",
   "execution_count": 8,
   "metadata": {},
   "outputs": [
    {
     "data": {
      "text/html": [
       "<div>\n",
       "<style scoped>\n",
       "    .dataframe tbody tr th:only-of-type {\n",
       "        vertical-align: middle;\n",
       "    }\n",
       "\n",
       "    .dataframe tbody tr th {\n",
       "        vertical-align: top;\n",
       "    }\n",
       "\n",
       "    .dataframe thead th {\n",
       "        text-align: right;\n",
       "    }\n",
       "</style>\n",
       "<table border=\"1\" class=\"dataframe\">\n",
       "  <thead>\n",
       "    <tr style=\"text-align: right;\">\n",
       "      <th></th>\n",
       "      <th>Earthquake No.</th>\n",
       "      <th>Time Series Avalability</th>\n",
       "      <th>Station Name</th>\n",
       "      <th>Record No</th>\n",
       "      <th>Date</th>\n",
       "      <th>Time</th>\n",
       "      <th>Unnamed: 6</th>\n",
       "      <th>Latitude</th>\n",
       "      <th>Longitude</th>\n",
       "      <th>Reference</th>\n",
       "      <th>Station Code</th>\n",
       "      <th>Province</th>\n",
       "      <th>Fault Type</th>\n",
       "      <th>Earthquake No.</th>\n",
       "      <th>Epicentral Distance (KM)</th>\n",
       "      <th>Moment Magnitude (MW)</th>\n",
       "      <th>Depth (km)</th>\n",
       "      <th>Effective duration (s) L</th>\n",
       "      <th>Vs30 (m/s)</th>\n",
       "      <th>Eq.1</th>\n",
       "      <th>Eq.2</th>\n",
       "      <th>Eq.3</th>\n",
       "      <th>Eq.4</th>\n",
       "      <th>Eq.5</th>\n",
       "      <th>Eq.6</th>\n",
       "      <th>Eq.7</th>\n",
       "      <th>Eq.8</th>\n",
       "      <th>Eq.9</th>\n",
       "      <th>Eq.10</th>\n",
       "      <th>Actual horizontal peak ground acceleration in g Sharjah (UOSS)</th>\n",
       "      <th>target_id</th>\n",
       "    </tr>\n",
       "  </thead>\n",
       "  <tbody>\n",
       "    <tr>\n",
       "      <th>0</th>\n",
       "      <td>1.0</td>\n",
       "      <td>1.0</td>\n",
       "      <td>Tooshk-e-Ab-e-Sard</td>\n",
       "      <td>4836/01</td>\n",
       "      <td>26/05/09</td>\n",
       "      <td>11:52:48</td>\n",
       "      <td>PM</td>\n",
       "      <td>33.94</td>\n",
       "      <td>48.60</td>\n",
       "      <td>BHRC</td>\n",
       "      <td>TOA</td>\n",
       "      <td>Lorestan</td>\n",
       "      <td>R</td>\n",
       "      <td>1.0</td>\n",
       "      <td>19.0</td>\n",
       "      <td>4.6</td>\n",
       "      <td>22.0</td>\n",
       "      <td>2.17</td>\n",
       "      <td>891.0</td>\n",
       "      <td>0.04</td>\n",
       "      <td>30.16</td>\n",
       "      <td>0.01</td>\n",
       "      <td>63.44</td>\n",
       "      <td>192.05</td>\n",
       "      <td>58.66</td>\n",
       "      <td>23.57</td>\n",
       "      <td>0.15</td>\n",
       "      <td>0.04</td>\n",
       "      <td>0.09</td>\n",
       "      <td>0.442468</td>\n",
       "      <td>0.0</td>\n",
       "    </tr>\n",
       "    <tr>\n",
       "      <th>1</th>\n",
       "      <td>2.0</td>\n",
       "      <td>1.0</td>\n",
       "      <td>Shahid AbbasPoor Dam3</td>\n",
       "      <td>4929</td>\n",
       "      <td>04/10/09</td>\n",
       "      <td>9:50:50</td>\n",
       "      <td>PM</td>\n",
       "      <td>31.94</td>\n",
       "      <td>49.42</td>\n",
       "      <td>BHRC</td>\n",
       "      <td>1KR</td>\n",
       "      <td>khuzestan</td>\n",
       "      <td>SS</td>\n",
       "      <td>2.0</td>\n",
       "      <td>21.0</td>\n",
       "      <td>5.1</td>\n",
       "      <td>10.0</td>\n",
       "      <td>11.60</td>\n",
       "      <td>NaN</td>\n",
       "      <td>NaN</td>\n",
       "      <td>42.85</td>\n",
       "      <td>NaN</td>\n",
       "      <td>NaN</td>\n",
       "      <td>270.19</td>\n",
       "      <td>NaN</td>\n",
       "      <td>40.24</td>\n",
       "      <td>0.67</td>\n",
       "      <td>0.05</td>\n",
       "      <td>NaN</td>\n",
       "      <td>0.139353</td>\n",
       "      <td>0.0</td>\n",
       "    </tr>\n",
       "    <tr>\n",
       "      <th>2</th>\n",
       "      <td>3.0</td>\n",
       "      <td>1.0</td>\n",
       "      <td>Dinevar1</td>\n",
       "      <td>4854</td>\n",
       "      <td>13/10/09</td>\n",
       "      <td>12:54:27</td>\n",
       "      <td>AM</td>\n",
       "      <td>35.05</td>\n",
       "      <td>46.93</td>\n",
       "      <td>BHRC</td>\n",
       "      <td>KRH</td>\n",
       "      <td>kernanshah</td>\n",
       "      <td>R</td>\n",
       "      <td>3.0</td>\n",
       "      <td>70.0</td>\n",
       "      <td>5.1</td>\n",
       "      <td>10.0</td>\n",
       "      <td>14.15</td>\n",
       "      <td>514.0</td>\n",
       "      <td>0.02</td>\n",
       "      <td>134.34</td>\n",
       "      <td>0.01</td>\n",
       "      <td>31.35</td>\n",
       "      <td>66.41</td>\n",
       "      <td>21.37</td>\n",
       "      <td>12.02</td>\n",
       "      <td>0.13</td>\n",
       "      <td>0.02</td>\n",
       "      <td>0.03</td>\n",
       "      <td>0.526330</td>\n",
       "      <td>0.0</td>\n",
       "    </tr>\n",
       "    <tr>\n",
       "      <th>3</th>\n",
       "      <td>4.0</td>\n",
       "      <td>1.0</td>\n",
       "      <td>Hosseiniyeh Olya</td>\n",
       "      <td>4942/01</td>\n",
       "      <td>23/02/10</td>\n",
       "      <td>10:25:54</td>\n",
       "      <td>AM</td>\n",
       "      <td>32.57</td>\n",
       "      <td>48.38</td>\n",
       "      <td>BHRC</td>\n",
       "      <td>HSN</td>\n",
       "      <td>khuzestan</td>\n",
       "      <td>SS</td>\n",
       "      <td>4.0</td>\n",
       "      <td>16.0</td>\n",
       "      <td>5.4</td>\n",
       "      <td>16.0</td>\n",
       "      <td>5.46</td>\n",
       "      <td>582.0</td>\n",
       "      <td>0.09</td>\n",
       "      <td>39.98</td>\n",
       "      <td>0.05</td>\n",
       "      <td>140.46</td>\n",
       "      <td>385.59</td>\n",
       "      <td>91.89</td>\n",
       "      <td>73.37</td>\n",
       "      <td>2.33</td>\n",
       "      <td>0.08</td>\n",
       "      <td>0.24</td>\n",
       "      <td>0.690756</td>\n",
       "      <td>0.0</td>\n",
       "    </tr>\n",
       "    <tr>\n",
       "      <th>4</th>\n",
       "      <td>5.0</td>\n",
       "      <td>1.0</td>\n",
       "      <td>Dalaki</td>\n",
       "      <td>4957</td>\n",
       "      <td>14/05/10</td>\n",
       "      <td>6:49:56</td>\n",
       "      <td>PM</td>\n",
       "      <td>29.42</td>\n",
       "      <td>51.65</td>\n",
       "      <td>BHRC</td>\n",
       "      <td>DLk</td>\n",
       "      <td>bushehr</td>\n",
       "      <td>SS</td>\n",
       "      <td>5.0</td>\n",
       "      <td>35.0</td>\n",
       "      <td>5.1</td>\n",
       "      <td>9.0</td>\n",
       "      <td>NaN</td>\n",
       "      <td>971.0</td>\n",
       "      <td>0.03</td>\n",
       "      <td>68.46</td>\n",
       "      <td>0.01</td>\n",
       "      <td>51.18</td>\n",
       "      <td>182.10</td>\n",
       "      <td>48.26</td>\n",
       "      <td>24.73</td>\n",
       "      <td>0.36</td>\n",
       "      <td>0.03</td>\n",
       "      <td>0.06</td>\n",
       "      <td>0.330673</td>\n",
       "      <td>0.0</td>\n",
       "    </tr>\n",
       "  </tbody>\n",
       "</table>\n",
       "</div>"
      ],
      "text/plain": [
       "   Earthquake No.   Time Series Avalability           Station Name Record No      Date      Time Unnamed: 6  Latitude  Longitude Reference Station Code    Province Fault Type  Earthquake No.  Epicentral Distance (KM)  Moment Magnitude (MW)  Depth (km)  Effective duration (s) L  Vs30 (m/s)  Eq.1     Eq.2  Eq.3    Eq.4    Eq.5   Eq.6   Eq.7  Eq.8  Eq.9  Eq.10  Actual horizontal peak ground acceleration in g Sharjah (UOSS)  target_id\n",
       "0              1.0                      1.0     Tooshk-e-Ab-e-Sard   4836/01  26/05/09  11:52:48         PM     33.94      48.60      BHRC          TOA    Lorestan          R             1.0                      19.0                    4.6        22.0                      2.17       891.0   0.04   30.16  0.01   63.44  192.05  58.66  23.57  0.15  0.04   0.09                                           0.442468                     0.0\n",
       "1              2.0                      1.0  Shahid AbbasPoor Dam3      4929  04/10/09   9:50:50         PM     31.94      49.42      BHRC          1KR   khuzestan         SS             2.0                      21.0                    5.1        10.0                     11.60         NaN    NaN   42.85   NaN     NaN  270.19    NaN  40.24  0.67  0.05    NaN                                           0.139353                     0.0\n",
       "2              3.0                      1.0               Dinevar1      4854  13/10/09  12:54:27         AM     35.05      46.93      BHRC          KRH  kernanshah          R             3.0                      70.0                    5.1        10.0                     14.15       514.0   0.02  134.34  0.01   31.35   66.41  21.37  12.02  0.13  0.02   0.03                                           0.526330                     0.0\n",
       "3              4.0                      1.0       Hosseiniyeh Olya   4942/01  23/02/10  10:25:54         AM     32.57      48.38      BHRC          HSN   khuzestan         SS             4.0                      16.0                    5.4        16.0                      5.46       582.0   0.09   39.98  0.05  140.46  385.59  91.89  73.37  2.33  0.08   0.24                                           0.690756                     0.0\n",
       "4              5.0                      1.0                 Dalaki      4957  14/05/10   6:49:56         PM     29.42      51.65      BHRC          DLk     bushehr         SS             5.0                      35.0                    5.1         9.0                       NaN       971.0   0.03   68.46  0.01   51.18  182.10  48.26  24.73  0.36  0.03   0.06                                           0.330673                     0.0"
      ]
     },
     "execution_count": 8,
     "metadata": {},
     "output_type": "execute_result"
    }
   ],
   "source": [
    "df.head()"
   ]
  },
  {
   "cell_type": "code",
   "execution_count": 9,
   "metadata": {},
   "outputs": [],
   "source": [
    "df.rename(columns={'Unnamed: 17':'target_id'},inplace= True)"
   ]
  },
  {
   "cell_type": "code",
   "execution_count": 10,
   "metadata": {},
   "outputs": [
    {
     "data": {
      "text/plain": [
       "SS    76\n",
       "R     51\n",
       "Name: Fault Type, dtype: int64"
      ]
     },
     "execution_count": 10,
     "metadata": {},
     "output_type": "execute_result"
    }
   ],
   "source": [
    "df['Fault Type'].value_counts()"
   ]
  },
  {
   "cell_type": "code",
   "execution_count": 11,
   "metadata": {},
   "outputs": [
    {
     "data": {
      "text/plain": [
       "1.0    89\n",
       "0.0    41\n",
       "Name: Time Series Avalability, dtype: int64"
      ]
     },
     "execution_count": 11,
     "metadata": {},
     "output_type": "execute_result"
    }
   ],
   "source": [
    "df['Time Series Avalability'].value_counts()"
   ]
  },
  {
   "cell_type": "code",
   "execution_count": 12,
   "metadata": {},
   "outputs": [
    {
     "data": {
      "text/html": [
       "<div>\n",
       "<style scoped>\n",
       "    .dataframe tbody tr th:only-of-type {\n",
       "        vertical-align: middle;\n",
       "    }\n",
       "\n",
       "    .dataframe tbody tr th {\n",
       "        vertical-align: top;\n",
       "    }\n",
       "\n",
       "    .dataframe thead th {\n",
       "        text-align: right;\n",
       "    }\n",
       "</style>\n",
       "<table border=\"1\" class=\"dataframe\">\n",
       "  <thead>\n",
       "    <tr style=\"text-align: right;\">\n",
       "      <th></th>\n",
       "      <th>cols</th>\n",
       "      <th>values</th>\n",
       "    </tr>\n",
       "  </thead>\n",
       "  <tbody>\n",
       "    <tr>\n",
       "      <th>0</th>\n",
       "      <td>Earthquake No.</td>\n",
       "      <td>1</td>\n",
       "    </tr>\n",
       "    <tr>\n",
       "      <th>1</th>\n",
       "      <td>Time Series Avalability</td>\n",
       "      <td>1</td>\n",
       "    </tr>\n",
       "    <tr>\n",
       "      <th>2</th>\n",
       "      <td>Station Name</td>\n",
       "      <td>1</td>\n",
       "    </tr>\n",
       "    <tr>\n",
       "      <th>3</th>\n",
       "      <td>Record No</td>\n",
       "      <td>1</td>\n",
       "    </tr>\n",
       "    <tr>\n",
       "      <th>4</th>\n",
       "      <td>Date</td>\n",
       "      <td>1</td>\n",
       "    </tr>\n",
       "    <tr>\n",
       "      <th>5</th>\n",
       "      <td>Time</td>\n",
       "      <td>1</td>\n",
       "    </tr>\n",
       "    <tr>\n",
       "      <th>6</th>\n",
       "      <td>Unnamed: 6</td>\n",
       "      <td>1</td>\n",
       "    </tr>\n",
       "    <tr>\n",
       "      <th>7</th>\n",
       "      <td>Latitude</td>\n",
       "      <td>1</td>\n",
       "    </tr>\n",
       "    <tr>\n",
       "      <th>8</th>\n",
       "      <td>Longitude</td>\n",
       "      <td>1</td>\n",
       "    </tr>\n",
       "    <tr>\n",
       "      <th>9</th>\n",
       "      <td>Reference</td>\n",
       "      <td>1</td>\n",
       "    </tr>\n",
       "    <tr>\n",
       "      <th>10</th>\n",
       "      <td>Station Code</td>\n",
       "      <td>1</td>\n",
       "    </tr>\n",
       "    <tr>\n",
       "      <th>11</th>\n",
       "      <td>Province</td>\n",
       "      <td>1</td>\n",
       "    </tr>\n",
       "    <tr>\n",
       "      <th>12</th>\n",
       "      <td>Fault Type</td>\n",
       "      <td>4</td>\n",
       "    </tr>\n",
       "    <tr>\n",
       "      <th>13</th>\n",
       "      <td>Earthquake No.</td>\n",
       "      <td>1</td>\n",
       "    </tr>\n",
       "    <tr>\n",
       "      <th>14</th>\n",
       "      <td>Epicentral Distance (KM)</td>\n",
       "      <td>1</td>\n",
       "    </tr>\n",
       "    <tr>\n",
       "      <th>15</th>\n",
       "      <td>Moment Magnitude (MW)</td>\n",
       "      <td>1</td>\n",
       "    </tr>\n",
       "    <tr>\n",
       "      <th>16</th>\n",
       "      <td>Depth (km)</td>\n",
       "      <td>1</td>\n",
       "    </tr>\n",
       "    <tr>\n",
       "      <th>17</th>\n",
       "      <td>Effective duration (s) L</td>\n",
       "      <td>41</td>\n",
       "    </tr>\n",
       "    <tr>\n",
       "      <th>18</th>\n",
       "      <td>Vs30 (m/s)</td>\n",
       "      <td>42</td>\n",
       "    </tr>\n",
       "    <tr>\n",
       "      <th>19</th>\n",
       "      <td>Eq.1</td>\n",
       "      <td>43</td>\n",
       "    </tr>\n",
       "    <tr>\n",
       "      <th>20</th>\n",
       "      <td>Eq.2</td>\n",
       "      <td>1</td>\n",
       "    </tr>\n",
       "    <tr>\n",
       "      <th>21</th>\n",
       "      <td>Eq.3</td>\n",
       "      <td>43</td>\n",
       "    </tr>\n",
       "    <tr>\n",
       "      <th>22</th>\n",
       "      <td>Eq.4</td>\n",
       "      <td>43</td>\n",
       "    </tr>\n",
       "    <tr>\n",
       "      <th>23</th>\n",
       "      <td>Eq.5</td>\n",
       "      <td>1</td>\n",
       "    </tr>\n",
       "    <tr>\n",
       "      <th>24</th>\n",
       "      <td>Eq.6</td>\n",
       "      <td>43</td>\n",
       "    </tr>\n",
       "    <tr>\n",
       "      <th>25</th>\n",
       "      <td>Eq.7</td>\n",
       "      <td>1</td>\n",
       "    </tr>\n",
       "    <tr>\n",
       "      <th>26</th>\n",
       "      <td>Eq.8</td>\n",
       "      <td>1</td>\n",
       "    </tr>\n",
       "    <tr>\n",
       "      <th>27</th>\n",
       "      <td>Eq.9</td>\n",
       "      <td>1</td>\n",
       "    </tr>\n",
       "    <tr>\n",
       "      <th>28</th>\n",
       "      <td>Eq.10</td>\n",
       "      <td>43</td>\n",
       "    </tr>\n",
       "    <tr>\n",
       "      <th>29</th>\n",
       "      <td>Actual horizontal peak ground acceleration in ...</td>\n",
       "      <td>42</td>\n",
       "    </tr>\n",
       "    <tr>\n",
       "      <th>30</th>\n",
       "      <td>target_id</td>\n",
       "      <td>1</td>\n",
       "    </tr>\n",
       "  </tbody>\n",
       "</table>\n",
       "</div>"
      ],
      "text/plain": [
       "                                                 cols  values\n",
       "0                                     Earthquake No.        1\n",
       "1                             Time Series Avalability       1\n",
       "2                                        Station Name       1\n",
       "3                                           Record No       1\n",
       "4                                                Date       1\n",
       "5                                                Time       1\n",
       "6                                          Unnamed: 6       1\n",
       "7                                            Latitude       1\n",
       "8                                           Longitude       1\n",
       "9                                           Reference       1\n",
       "10                                       Station Code       1\n",
       "11                                           Province       1\n",
       "12                                         Fault Type       4\n",
       "13                                     Earthquake No.       1\n",
       "14                           Epicentral Distance (KM)       1\n",
       "15                              Moment Magnitude (MW)       1\n",
       "16                                         Depth (km)       1\n",
       "17                           Effective duration (s) L      41\n",
       "18                                         Vs30 (m/s)      42\n",
       "19                                              Eq.1       43\n",
       "20                                               Eq.2       1\n",
       "21                                               Eq.3      43\n",
       "22                                               Eq.4      43\n",
       "23                                               Eq.5       1\n",
       "24                                               Eq.6      43\n",
       "25                                               Eq.7       1\n",
       "26                                               Eq.8       1\n",
       "27                                               Eq.9       1\n",
       "28                                              Eq.10      43\n",
       "29  Actual horizontal peak ground acceleration in ...      42\n",
       "30                                          target_id       1"
      ]
     },
     "execution_count": 12,
     "metadata": {},
     "output_type": "execute_result"
    }
   ],
   "source": [
    "missing_df=pd.DataFrame()\n",
    "missing_df['cols']=df.isnull().sum().keys()\n",
    "missing_df['values']=df.isnull().sum().values.tolist()\n",
    "missing_df[missing_df['values']>0]"
   ]
  },
  {
   "cell_type": "code",
   "execution_count": 13,
   "metadata": {},
   "outputs": [],
   "source": [
    "#aggregation on the basis of Fault Type\n",
    "df['avg_epicentral_distance'] = df.groupby('Fault Type')['Epicentral Distance (KM)'].transform('mean')\n",
    "df['avg_MW'] = df.groupby('Fault Type')['Moment Magnitude (MW)'].transform('mean')\n",
    "df['avg_Depth'] = df.groupby('Fault Type')['Depth (km)'].transform('mean')\n",
    "df['avg_effective_duration'] = df.groupby('Fault Type')['Effective duration (s) L'].transform('mean')\n",
    "df['avg_vs'] = df.groupby('Fault Type')['Vs30 (m/s)'].transform('mean')"
   ]
  },
  {
   "cell_type": "code",
   "execution_count": 14,
   "metadata": {},
   "outputs": [],
   "source": [
    "#aggregation on the basis of Refernce\n",
    "df['avg_epicentral_distance_r'] = df.groupby('Reference')['Epicentral Distance (KM)'].transform('mean')\n",
    "df['avg_MW_r'] = df.groupby('Reference')['Moment Magnitude (MW)'].transform('mean')\n",
    "df['avg_Depth_r'] = df.groupby('Reference')['Depth (km)'].transform('mean')\n",
    "df['avg_effective_duration_r'] = df.groupby('Reference')['Effective duration (s) L'].transform('mean')\n",
    "df['avg_vs_r'] = df.groupby('Reference')['Vs30 (m/s)'].transform('mean')"
   ]
  },
  {
   "cell_type": "code",
   "execution_count": 15,
   "metadata": {},
   "outputs": [],
   "source": [
    "#aggregation on the basis of Station Code\n",
    "df['avg_epicentral_distance_sc'] = df.groupby('Station Code')['Epicentral Distance (KM)'].transform('mean')\n",
    "df['avg_MW_sc'] = df.groupby('Station Code')['Moment Magnitude (MW)'].transform('mean')\n",
    "df['avg_Depth_sc'] = df.groupby('Station Code')['Depth (km)'].transform('mean')\n",
    "df['avg_effective_duration_sc'] = df.groupby('Station Code')['Effective duration (s) L'].transform('mean')\n",
    "df['avg_vs_sc'] = df.groupby('Station Code')['Vs30 (m/s)'].transform('mean')"
   ]
  },
  {
   "cell_type": "code",
   "execution_count": 16,
   "metadata": {},
   "outputs": [],
   "source": [
    "#aggregation on the basis of Province\n",
    "df['avg_epicentral_distance_p'] = df.groupby('Province')['Epicentral Distance (KM)'].transform('mean')\n",
    "df['avg_MW_p'] = df.groupby('Province')['Moment Magnitude (MW)'].transform('mean')\n",
    "df['avg_Depth_p'] = df.groupby('Province')['Depth (km)'].transform('mean')\n",
    "df['avg_effective_duration_p'] = df.groupby('Province')['Effective duration (s) L'].transform('mean')\n",
    "df['avg_vs_p'] = df.groupby('Province')['Vs30 (m/s)'].transform('mean')"
   ]
  },
  {
   "cell_type": "code",
   "execution_count": 19,
   "metadata": {},
   "outputs": [],
   "source": [
    "df=df.drop(['Station Name','Record No','Date','Time','Unnamed: 6','Reference','Station Code','Province'],axis=1)"
   ]
  },
  {
   "cell_type": "code",
   "execution_count": 20,
   "metadata": {},
   "outputs": [
    {
     "data": {
      "text/html": [
       "<div>\n",
       "<style scoped>\n",
       "    .dataframe tbody tr th:only-of-type {\n",
       "        vertical-align: middle;\n",
       "    }\n",
       "\n",
       "    .dataframe tbody tr th {\n",
       "        vertical-align: top;\n",
       "    }\n",
       "\n",
       "    .dataframe thead th {\n",
       "        text-align: right;\n",
       "    }\n",
       "</style>\n",
       "<table border=\"1\" class=\"dataframe\">\n",
       "  <thead>\n",
       "    <tr style=\"text-align: right;\">\n",
       "      <th></th>\n",
       "      <th>Earthquake No.</th>\n",
       "      <th>Time Series Avalability</th>\n",
       "      <th>Latitude</th>\n",
       "      <th>Longitude</th>\n",
       "      <th>Fault Type</th>\n",
       "      <th>Earthquake No.</th>\n",
       "      <th>Epicentral Distance (KM)</th>\n",
       "      <th>Moment Magnitude (MW)</th>\n",
       "      <th>Depth (km)</th>\n",
       "      <th>Effective duration (s) L</th>\n",
       "      <th>Vs30 (m/s)</th>\n",
       "      <th>Eq.1</th>\n",
       "      <th>Eq.2</th>\n",
       "      <th>Eq.3</th>\n",
       "      <th>Eq.4</th>\n",
       "      <th>Eq.5</th>\n",
       "      <th>Eq.6</th>\n",
       "      <th>Eq.7</th>\n",
       "      <th>Eq.8</th>\n",
       "      <th>Eq.9</th>\n",
       "      <th>Eq.10</th>\n",
       "      <th>Actual horizontal peak ground acceleration in g Sharjah (UOSS)</th>\n",
       "      <th>target_id</th>\n",
       "      <th>avg_epicentral_distance</th>\n",
       "      <th>avg_MW</th>\n",
       "      <th>avg_Depth</th>\n",
       "      <th>avg_effective_duration</th>\n",
       "      <th>avg_vs</th>\n",
       "      <th>avg_epicentral_distance_r</th>\n",
       "      <th>avg_MW_r</th>\n",
       "      <th>avg_Depth_r</th>\n",
       "      <th>avg_effective_duration_r</th>\n",
       "      <th>avg_vs_r</th>\n",
       "      <th>avg_epicentral_distance_sc</th>\n",
       "      <th>avg_MW_sc</th>\n",
       "      <th>avg_Depth_sc</th>\n",
       "      <th>avg_effective_duration_sc</th>\n",
       "      <th>avg_vs_sc</th>\n",
       "      <th>avg_epicentral_distance_p</th>\n",
       "      <th>avg_MW_p</th>\n",
       "      <th>avg_Depth_p</th>\n",
       "      <th>avg_effective_duration_p</th>\n",
       "      <th>avg_vs_p</th>\n",
       "    </tr>\n",
       "  </thead>\n",
       "  <tbody>\n",
       "    <tr>\n",
       "      <th>0</th>\n",
       "      <td>1.0</td>\n",
       "      <td>1.0</td>\n",
       "      <td>33.94</td>\n",
       "      <td>48.60</td>\n",
       "      <td>R</td>\n",
       "      <td>1.0</td>\n",
       "      <td>19.0</td>\n",
       "      <td>4.6</td>\n",
       "      <td>22.0</td>\n",
       "      <td>2.17</td>\n",
       "      <td>891.0</td>\n",
       "      <td>0.04</td>\n",
       "      <td>30.16</td>\n",
       "      <td>0.01</td>\n",
       "      <td>63.44</td>\n",
       "      <td>192.05</td>\n",
       "      <td>58.66</td>\n",
       "      <td>23.57</td>\n",
       "      <td>0.15</td>\n",
       "      <td>0.04</td>\n",
       "      <td>0.09</td>\n",
       "      <td>0.442468</td>\n",
       "      <td>0.0</td>\n",
       "      <td>31.745098</td>\n",
       "      <td>5.101961</td>\n",
       "      <td>13.980392</td>\n",
       "      <td>9.022121</td>\n",
       "      <td>783.644444</td>\n",
       "      <td>28.638462</td>\n",
       "      <td>5.052308</td>\n",
       "      <td>13.723077</td>\n",
       "      <td>9.044111</td>\n",
       "      <td>812.314607</td>\n",
       "      <td>19.0</td>\n",
       "      <td>4.6</td>\n",
       "      <td>22.0</td>\n",
       "      <td>2.17</td>\n",
       "      <td>891.0</td>\n",
       "      <td>29.0</td>\n",
       "      <td>4.333333</td>\n",
       "      <td>16.0</td>\n",
       "      <td>2.795</td>\n",
       "      <td>756.000000</td>\n",
       "    </tr>\n",
       "    <tr>\n",
       "      <th>1</th>\n",
       "      <td>2.0</td>\n",
       "      <td>1.0</td>\n",
       "      <td>31.94</td>\n",
       "      <td>49.42</td>\n",
       "      <td>SS</td>\n",
       "      <td>2.0</td>\n",
       "      <td>21.0</td>\n",
       "      <td>5.1</td>\n",
       "      <td>10.0</td>\n",
       "      <td>11.60</td>\n",
       "      <td>NaN</td>\n",
       "      <td>NaN</td>\n",
       "      <td>42.85</td>\n",
       "      <td>NaN</td>\n",
       "      <td>NaN</td>\n",
       "      <td>270.19</td>\n",
       "      <td>NaN</td>\n",
       "      <td>40.24</td>\n",
       "      <td>0.67</td>\n",
       "      <td>0.05</td>\n",
       "      <td>NaN</td>\n",
       "      <td>0.139353</td>\n",
       "      <td>0.0</td>\n",
       "      <td>25.894737</td>\n",
       "      <td>4.993421</td>\n",
       "      <td>12.868421</td>\n",
       "      <td>8.794545</td>\n",
       "      <td>841.636364</td>\n",
       "      <td>28.638462</td>\n",
       "      <td>5.052308</td>\n",
       "      <td>13.723077</td>\n",
       "      <td>9.044111</td>\n",
       "      <td>812.314607</td>\n",
       "      <td>21.0</td>\n",
       "      <td>5.1</td>\n",
       "      <td>10.0</td>\n",
       "      <td>11.60</td>\n",
       "      <td>NaN</td>\n",
       "      <td>18.5</td>\n",
       "      <td>5.250000</td>\n",
       "      <td>13.0</td>\n",
       "      <td>8.530</td>\n",
       "      <td>582.000000</td>\n",
       "    </tr>\n",
       "    <tr>\n",
       "      <th>2</th>\n",
       "      <td>3.0</td>\n",
       "      <td>1.0</td>\n",
       "      <td>35.05</td>\n",
       "      <td>46.93</td>\n",
       "      <td>R</td>\n",
       "      <td>3.0</td>\n",
       "      <td>70.0</td>\n",
       "      <td>5.1</td>\n",
       "      <td>10.0</td>\n",
       "      <td>14.15</td>\n",
       "      <td>514.0</td>\n",
       "      <td>0.02</td>\n",
       "      <td>134.34</td>\n",
       "      <td>0.01</td>\n",
       "      <td>31.35</td>\n",
       "      <td>66.41</td>\n",
       "      <td>21.37</td>\n",
       "      <td>12.02</td>\n",
       "      <td>0.13</td>\n",
       "      <td>0.02</td>\n",
       "      <td>0.03</td>\n",
       "      <td>0.526330</td>\n",
       "      <td>0.0</td>\n",
       "      <td>31.745098</td>\n",
       "      <td>5.101961</td>\n",
       "      <td>13.980392</td>\n",
       "      <td>9.022121</td>\n",
       "      <td>783.644444</td>\n",
       "      <td>28.638462</td>\n",
       "      <td>5.052308</td>\n",
       "      <td>13.723077</td>\n",
       "      <td>9.044111</td>\n",
       "      <td>812.314607</td>\n",
       "      <td>70.0</td>\n",
       "      <td>5.1</td>\n",
       "      <td>10.0</td>\n",
       "      <td>14.15</td>\n",
       "      <td>514.0</td>\n",
       "      <td>70.0</td>\n",
       "      <td>5.100000</td>\n",
       "      <td>10.0</td>\n",
       "      <td>14.150</td>\n",
       "      <td>514.000000</td>\n",
       "    </tr>\n",
       "    <tr>\n",
       "      <th>3</th>\n",
       "      <td>4.0</td>\n",
       "      <td>1.0</td>\n",
       "      <td>32.57</td>\n",
       "      <td>48.38</td>\n",
       "      <td>SS</td>\n",
       "      <td>4.0</td>\n",
       "      <td>16.0</td>\n",
       "      <td>5.4</td>\n",
       "      <td>16.0</td>\n",
       "      <td>5.46</td>\n",
       "      <td>582.0</td>\n",
       "      <td>0.09</td>\n",
       "      <td>39.98</td>\n",
       "      <td>0.05</td>\n",
       "      <td>140.46</td>\n",
       "      <td>385.59</td>\n",
       "      <td>91.89</td>\n",
       "      <td>73.37</td>\n",
       "      <td>2.33</td>\n",
       "      <td>0.08</td>\n",
       "      <td>0.24</td>\n",
       "      <td>0.690756</td>\n",
       "      <td>0.0</td>\n",
       "      <td>25.894737</td>\n",
       "      <td>4.993421</td>\n",
       "      <td>12.868421</td>\n",
       "      <td>8.794545</td>\n",
       "      <td>841.636364</td>\n",
       "      <td>28.638462</td>\n",
       "      <td>5.052308</td>\n",
       "      <td>13.723077</td>\n",
       "      <td>9.044111</td>\n",
       "      <td>812.314607</td>\n",
       "      <td>16.0</td>\n",
       "      <td>5.4</td>\n",
       "      <td>16.0</td>\n",
       "      <td>5.46</td>\n",
       "      <td>582.0</td>\n",
       "      <td>18.5</td>\n",
       "      <td>5.250000</td>\n",
       "      <td>13.0</td>\n",
       "      <td>8.530</td>\n",
       "      <td>582.000000</td>\n",
       "    </tr>\n",
       "    <tr>\n",
       "      <th>4</th>\n",
       "      <td>5.0</td>\n",
       "      <td>1.0</td>\n",
       "      <td>29.42</td>\n",
       "      <td>51.65</td>\n",
       "      <td>SS</td>\n",
       "      <td>5.0</td>\n",
       "      <td>35.0</td>\n",
       "      <td>5.1</td>\n",
       "      <td>9.0</td>\n",
       "      <td>NaN</td>\n",
       "      <td>971.0</td>\n",
       "      <td>0.03</td>\n",
       "      <td>68.46</td>\n",
       "      <td>0.01</td>\n",
       "      <td>51.18</td>\n",
       "      <td>182.10</td>\n",
       "      <td>48.26</td>\n",
       "      <td>24.73</td>\n",
       "      <td>0.36</td>\n",
       "      <td>0.03</td>\n",
       "      <td>0.06</td>\n",
       "      <td>0.330673</td>\n",
       "      <td>0.0</td>\n",
       "      <td>25.894737</td>\n",
       "      <td>4.993421</td>\n",
       "      <td>12.868421</td>\n",
       "      <td>8.794545</td>\n",
       "      <td>841.636364</td>\n",
       "      <td>28.638462</td>\n",
       "      <td>5.052308</td>\n",
       "      <td>13.723077</td>\n",
       "      <td>9.044111</td>\n",
       "      <td>812.314607</td>\n",
       "      <td>35.0</td>\n",
       "      <td>5.1</td>\n",
       "      <td>9.0</td>\n",
       "      <td>NaN</td>\n",
       "      <td>971.0</td>\n",
       "      <td>53.0</td>\n",
       "      <td>4.933333</td>\n",
       "      <td>11.0</td>\n",
       "      <td>NaN</td>\n",
       "      <td>764.333333</td>\n",
       "    </tr>\n",
       "  </tbody>\n",
       "</table>\n",
       "</div>"
      ],
      "text/plain": [
       "   Earthquake No.   Time Series Avalability  Latitude  Longitude Fault Type  Earthquake No.  Epicentral Distance (KM)  Moment Magnitude (MW)  Depth (km)  Effective duration (s) L  Vs30 (m/s)  Eq.1     Eq.2  Eq.3    Eq.4    Eq.5   Eq.6   Eq.7  Eq.8  Eq.9  Eq.10  Actual horizontal peak ground acceleration in g Sharjah (UOSS)  target_id  avg_epicentral_distance    avg_MW  avg_Depth  avg_effective_duration      avg_vs  avg_epicentral_distance_r  avg_MW_r  avg_Depth_r  avg_effective_duration_r  \\\n",
       "0              1.0                      1.0     33.94      48.60          R             1.0                      19.0                    4.6        22.0                      2.17       891.0   0.04   30.16  0.01   63.44  192.05  58.66  23.57  0.15  0.04   0.09                                           0.442468                     0.0                31.745098  5.101961  13.980392                9.022121  783.644444                  28.638462  5.052308    13.723077                  9.044111   \n",
       "1              2.0                      1.0     31.94      49.42         SS             2.0                      21.0                    5.1        10.0                     11.60         NaN    NaN   42.85   NaN     NaN  270.19    NaN  40.24  0.67  0.05    NaN                                           0.139353                     0.0                25.894737  4.993421  12.868421                8.794545  841.636364                  28.638462  5.052308    13.723077                  9.044111   \n",
       "2              3.0                      1.0     35.05      46.93          R             3.0                      70.0                    5.1        10.0                     14.15       514.0   0.02  134.34  0.01   31.35   66.41  21.37  12.02  0.13  0.02   0.03                                           0.526330                     0.0                31.745098  5.101961  13.980392                9.022121  783.644444                  28.638462  5.052308    13.723077                  9.044111   \n",
       "3              4.0                      1.0     32.57      48.38         SS             4.0                      16.0                    5.4        16.0                      5.46       582.0   0.09   39.98  0.05  140.46  385.59  91.89  73.37  2.33  0.08   0.24                                           0.690756                     0.0                25.894737  4.993421  12.868421                8.794545  841.636364                  28.638462  5.052308    13.723077                  9.044111   \n",
       "4              5.0                      1.0     29.42      51.65         SS             5.0                      35.0                    5.1         9.0                       NaN       971.0   0.03   68.46  0.01   51.18  182.10  48.26  24.73  0.36  0.03   0.06                                           0.330673                     0.0                25.894737  4.993421  12.868421                8.794545  841.636364                  28.638462  5.052308    13.723077                  9.044111   \n",
       "\n",
       "     avg_vs_r  avg_epicentral_distance_sc  avg_MW_sc  avg_Depth_sc  avg_effective_duration_sc  avg_vs_sc  avg_epicentral_distance_p  avg_MW_p  avg_Depth_p  avg_effective_duration_p    avg_vs_p  \n",
       "0  812.314607                        19.0        4.6          22.0                       2.17      891.0                       29.0  4.333333         16.0                     2.795  756.000000  \n",
       "1  812.314607                        21.0        5.1          10.0                      11.60        NaN                       18.5  5.250000         13.0                     8.530  582.000000  \n",
       "2  812.314607                        70.0        5.1          10.0                      14.15      514.0                       70.0  5.100000         10.0                    14.150  514.000000  \n",
       "3  812.314607                        16.0        5.4          16.0                       5.46      582.0                       18.5  5.250000         13.0                     8.530  582.000000  \n",
       "4  812.314607                        35.0        5.1           9.0                        NaN      971.0                       53.0  4.933333         11.0                       NaN  764.333333  "
      ]
     },
     "execution_count": 20,
     "metadata": {},
     "output_type": "execute_result"
    }
   ],
   "source": [
    "df.head()"
   ]
  },
  {
   "cell_type": "code",
   "execution_count": 21,
   "metadata": {},
   "outputs": [],
   "source": [
    "df['Fault Type']=df['Fault Type'].map({'R': 1, 'SS': 0})"
   ]
  },
  {
   "cell_type": "code",
   "execution_count": 22,
   "metadata": {},
   "outputs": [],
   "source": [
    "df1=df.drop(['Earthquake No.','Actual horizontal peak ground acceleration in g Sharjah (UOSS)'],axis=1)"
   ]
  },
  {
   "cell_type": "code",
   "execution_count": 23,
   "metadata": {},
   "outputs": [],
   "source": [
    "#Scaling is performed\n",
    "from sklearn import preprocessing\n",
    "from sklearn.preprocessing import RobustScaler\n",
    "scaler = preprocessing.RobustScaler()\n",
    "scaled = scaler.fit_transform(df1)"
   ]
  },
  {
   "cell_type": "code",
   "execution_count": 24,
   "metadata": {},
   "outputs": [],
   "source": [
    "scaled=pd.DataFrame(scaled,columns=df1.columns)"
   ]
  },
  {
   "cell_type": "code",
   "execution_count": 25,
   "metadata": {},
   "outputs": [],
   "source": [
    "scaled.fillna(scaled.mean(),inplace=True)"
   ]
  },
  {
   "cell_type": "code",
   "execution_count": 26,
   "metadata": {},
   "outputs": [
    {
     "data": {
      "text/html": [
       "<div>\n",
       "<style scoped>\n",
       "    .dataframe tbody tr th:only-of-type {\n",
       "        vertical-align: middle;\n",
       "    }\n",
       "\n",
       "    .dataframe tbody tr th {\n",
       "        vertical-align: top;\n",
       "    }\n",
       "\n",
       "    .dataframe thead th {\n",
       "        text-align: right;\n",
       "    }\n",
       "</style>\n",
       "<table border=\"1\" class=\"dataframe\">\n",
       "  <thead>\n",
       "    <tr style=\"text-align: right;\">\n",
       "      <th></th>\n",
       "      <th>Earthquake No.</th>\n",
       "      <th>Time Series Avalability</th>\n",
       "      <th>Latitude</th>\n",
       "      <th>Longitude</th>\n",
       "      <th>Fault Type</th>\n",
       "      <th>Epicentral Distance (KM)</th>\n",
       "      <th>Moment Magnitude (MW)</th>\n",
       "      <th>Depth (km)</th>\n",
       "      <th>Effective duration (s) L</th>\n",
       "      <th>Vs30 (m/s)</th>\n",
       "      <th>Eq.1</th>\n",
       "      <th>Eq.2</th>\n",
       "      <th>Eq.3</th>\n",
       "      <th>Eq.4</th>\n",
       "      <th>Eq.5</th>\n",
       "      <th>Eq.6</th>\n",
       "      <th>Eq.7</th>\n",
       "      <th>Eq.8</th>\n",
       "      <th>Eq.9</th>\n",
       "      <th>Eq.10</th>\n",
       "      <th>target_id</th>\n",
       "      <th>avg_epicentral_distance</th>\n",
       "      <th>avg_MW</th>\n",
       "      <th>avg_Depth</th>\n",
       "      <th>avg_effective_duration</th>\n",
       "      <th>avg_vs</th>\n",
       "      <th>avg_epicentral_distance_r</th>\n",
       "      <th>avg_MW_r</th>\n",
       "      <th>avg_Depth_r</th>\n",
       "      <th>avg_effective_duration_r</th>\n",
       "      <th>avg_vs_r</th>\n",
       "      <th>avg_epicentral_distance_sc</th>\n",
       "      <th>avg_MW_sc</th>\n",
       "      <th>avg_Depth_sc</th>\n",
       "      <th>avg_effective_duration_sc</th>\n",
       "      <th>avg_vs_sc</th>\n",
       "      <th>avg_epicentral_distance_p</th>\n",
       "      <th>avg_MW_p</th>\n",
       "      <th>avg_Depth_p</th>\n",
       "      <th>avg_effective_duration_p</th>\n",
       "      <th>avg_vs_p</th>\n",
       "    </tr>\n",
       "  </thead>\n",
       "  <tbody>\n",
       "    <tr>\n",
       "      <th>0</th>\n",
       "      <td>-1.000000</td>\n",
       "      <td>0.0</td>\n",
       "      <td>0.537656</td>\n",
       "      <td>-0.403428</td>\n",
       "      <td>1.0</td>\n",
       "      <td>-0.080808</td>\n",
       "      <td>-0.500</td>\n",
       "      <td>1.666667</td>\n",
       "      <td>-0.630442</td>\n",
       "      <td>0.261972</td>\n",
       "      <td>0.000</td>\n",
       "      <td>-0.249729</td>\n",
       "      <td>-0.500000</td>\n",
       "      <td>-0.217373</td>\n",
       "      <td>-0.182027</td>\n",
       "      <td>0.008171</td>\n",
       "      <td>-0.300858</td>\n",
       "      <td>-0.250000</td>\n",
       "      <td>-0.333333</td>\n",
       "      <td>-0.222222</td>\n",
       "      <td>0.0</td>\n",
       "      <td>1.0</td>\n",
       "      <td>1.0</td>\n",
       "      <td>1.0</td>\n",
       "      <td>1.0</td>\n",
       "      <td>-1.0</td>\n",
       "      <td>0.0</td>\n",
       "      <td>0.0</td>\n",
       "      <td>0.0</td>\n",
       "      <td>0.0</td>\n",
       "      <td>0.0</td>\n",
       "      <td>-0.252632</td>\n",
       "      <td>-0.718391</td>\n",
       "      <td>1.583333</td>\n",
       "      <td>-0.708464</td>\n",
       "      <td>0.269175</td>\n",
       "      <td>0.411867</td>\n",
       "      <td>-1.442219</td>\n",
       "      <td>0.837132</td>\n",
       "      <td>-1.807614</td>\n",
       "      <td>-0.031616</td>\n",
       "    </tr>\n",
       "    <tr>\n",
       "      <th>1</th>\n",
       "      <td>-0.984496</td>\n",
       "      <td>0.0</td>\n",
       "      <td>0.138653</td>\n",
       "      <td>-0.295320</td>\n",
       "      <td>0.0</td>\n",
       "      <td>0.000000</td>\n",
       "      <td>0.125</td>\n",
       "      <td>-0.333333</td>\n",
       "      <td>0.642592</td>\n",
       "      <td>0.040323</td>\n",
       "      <td>0.375</td>\n",
       "      <td>0.000000</td>\n",
       "      <td>0.386364</td>\n",
       "      <td>0.230786</td>\n",
       "      <td>0.564813</td>\n",
       "      <td>0.216871</td>\n",
       "      <td>0.289178</td>\n",
       "      <td>0.250000</td>\n",
       "      <td>0.000000</td>\n",
       "      <td>0.135101</td>\n",
       "      <td>0.0</td>\n",
       "      <td>0.0</td>\n",
       "      <td>0.0</td>\n",
       "      <td>0.0</td>\n",
       "      <td>0.0</td>\n",
       "      <td>0.0</td>\n",
       "      <td>0.0</td>\n",
       "      <td>0.0</td>\n",
       "      <td>0.0</td>\n",
       "      <td>0.0</td>\n",
       "      <td>0.0</td>\n",
       "      <td>-0.168421</td>\n",
       "      <td>0.143678</td>\n",
       "      <td>-0.416667</td>\n",
       "      <td>0.605364</td>\n",
       "      <td>0.051916</td>\n",
       "      <td>-0.700173</td>\n",
       "      <td>0.591680</td>\n",
       "      <td>-0.202066</td>\n",
       "      <td>0.145597</td>\n",
       "      <td>-0.616853</td>\n",
       "    </tr>\n",
       "    <tr>\n",
       "      <th>2</th>\n",
       "      <td>-0.968992</td>\n",
       "      <td>0.0</td>\n",
       "      <td>0.759102</td>\n",
       "      <td>-0.623599</td>\n",
       "      <td>1.0</td>\n",
       "      <td>1.979798</td>\n",
       "      <td>0.125</td>\n",
       "      <td>-0.333333</td>\n",
       "      <td>0.986838</td>\n",
       "      <td>-0.800000</td>\n",
       "      <td>-0.500</td>\n",
       "      <td>1.800453</td>\n",
       "      <td>-0.500000</td>\n",
       "      <td>-0.877933</td>\n",
       "      <td>-1.382858</td>\n",
       "      <td>-0.773099</td>\n",
       "      <td>-0.709672</td>\n",
       "      <td>-0.269231</td>\n",
       "      <td>-1.000000</td>\n",
       "      <td>-0.888889</td>\n",
       "      <td>0.0</td>\n",
       "      <td>1.0</td>\n",
       "      <td>1.0</td>\n",
       "      <td>1.0</td>\n",
       "      <td>1.0</td>\n",
       "      <td>-1.0</td>\n",
       "      <td>0.0</td>\n",
       "      <td>0.0</td>\n",
       "      <td>0.0</td>\n",
       "      <td>0.0</td>\n",
       "      <td>0.0</td>\n",
       "      <td>1.894737</td>\n",
       "      <td>0.143678</td>\n",
       "      <td>-0.416667</td>\n",
       "      <td>0.960641</td>\n",
       "      <td>-0.821997</td>\n",
       "      <td>4.754119</td>\n",
       "      <td>0.258860</td>\n",
       "      <td>-1.241264</td>\n",
       "      <td>2.059642</td>\n",
       "      <td>-0.845567</td>\n",
       "    </tr>\n",
       "    <tr>\n",
       "      <th>3</th>\n",
       "      <td>-0.953488</td>\n",
       "      <td>0.0</td>\n",
       "      <td>0.264339</td>\n",
       "      <td>-0.432432</td>\n",
       "      <td>0.0</td>\n",
       "      <td>-0.202020</td>\n",
       "      <td>0.500</td>\n",
       "      <td>0.666667</td>\n",
       "      <td>-0.186298</td>\n",
       "      <td>-0.608451</td>\n",
       "      <td>1.250</td>\n",
       "      <td>-0.056479</td>\n",
       "      <td>1.500000</td>\n",
       "      <td>1.368053</td>\n",
       "      <td>1.667774</td>\n",
       "      <td>0.704379</td>\n",
       "      <td>1.461818</td>\n",
       "      <td>1.846154</td>\n",
       "      <td>1.000000</td>\n",
       "      <td>1.444444</td>\n",
       "      <td>0.0</td>\n",
       "      <td>0.0</td>\n",
       "      <td>0.0</td>\n",
       "      <td>0.0</td>\n",
       "      <td>0.0</td>\n",
       "      <td>0.0</td>\n",
       "      <td>0.0</td>\n",
       "      <td>0.0</td>\n",
       "      <td>0.0</td>\n",
       "      <td>0.0</td>\n",
       "      <td>0.0</td>\n",
       "      <td>-0.378947</td>\n",
       "      <td>0.660920</td>\n",
       "      <td>0.583333</td>\n",
       "      <td>-0.250087</td>\n",
       "      <td>-0.625181</td>\n",
       "      <td>-0.700173</td>\n",
       "      <td>0.591680</td>\n",
       "      <td>-0.202066</td>\n",
       "      <td>0.145597</td>\n",
       "      <td>-0.616853</td>\n",
       "    </tr>\n",
       "    <tr>\n",
       "      <th>4</th>\n",
       "      <td>-0.937984</td>\n",
       "      <td>0.0</td>\n",
       "      <td>-0.364090</td>\n",
       "      <td>-0.001318</td>\n",
       "      <td>0.0</td>\n",
       "      <td>0.565657</td>\n",
       "      <td>0.125</td>\n",
       "      <td>-0.500000</td>\n",
       "      <td>0.297551</td>\n",
       "      <td>0.487324</td>\n",
       "      <td>-0.250</td>\n",
       "      <td>0.503985</td>\n",
       "      <td>-0.500000</td>\n",
       "      <td>-0.469741</td>\n",
       "      <td>-0.277126</td>\n",
       "      <td>-0.209721</td>\n",
       "      <td>-0.259800</td>\n",
       "      <td>-0.048077</td>\n",
       "      <td>-0.666667</td>\n",
       "      <td>-0.555556</td>\n",
       "      <td>0.0</td>\n",
       "      <td>0.0</td>\n",
       "      <td>0.0</td>\n",
       "      <td>0.0</td>\n",
       "      <td>0.0</td>\n",
       "      <td>0.0</td>\n",
       "      <td>0.0</td>\n",
       "      <td>0.0</td>\n",
       "      <td>0.0</td>\n",
       "      <td>0.0</td>\n",
       "      <td>0.0</td>\n",
       "      <td>0.421053</td>\n",
       "      <td>0.143678</td>\n",
       "      <td>-0.583333</td>\n",
       "      <td>0.244458</td>\n",
       "      <td>0.500724</td>\n",
       "      <td>2.953673</td>\n",
       "      <td>-0.110940</td>\n",
       "      <td>-0.894865</td>\n",
       "      <td>0.140734</td>\n",
       "      <td>-0.003588</td>\n",
       "    </tr>\n",
       "  </tbody>\n",
       "</table>\n",
       "</div>"
      ],
      "text/plain": [
       "   Earthquake No.   Time Series Avalability  Latitude  Longitude  Fault Type  Epicentral Distance (KM)  Moment Magnitude (MW)  Depth (km)  Effective duration (s) L  Vs30 (m/s)  Eq.1       Eq.2      Eq.3      Eq.4      Eq.5      Eq.6      Eq.7      Eq.8      Eq.9     Eq.10  target_id  avg_epicentral_distance  avg_MW  avg_Depth  avg_effective_duration  avg_vs  avg_epicentral_distance_r  avg_MW_r  avg_Depth_r  avg_effective_duration_r  avg_vs_r  avg_epicentral_distance_sc  avg_MW_sc  \\\n",
       "0        -1.000000                      0.0  0.537656  -0.403428         1.0                 -0.080808                 -0.500    1.666667                 -0.630442    0.261972  0.000 -0.249729 -0.500000 -0.217373 -0.182027  0.008171 -0.300858 -0.250000 -0.333333 -0.222222        0.0                      1.0     1.0        1.0                     1.0    -1.0                        0.0       0.0          0.0                       0.0       0.0                   -0.252632  -0.718391   \n",
       "1        -0.984496                      0.0  0.138653  -0.295320         0.0                  0.000000                  0.125   -0.333333                  0.642592    0.040323  0.375  0.000000  0.386364  0.230786  0.564813  0.216871  0.289178  0.250000  0.000000  0.135101        0.0                      0.0     0.0        0.0                     0.0     0.0                        0.0       0.0          0.0                       0.0       0.0                   -0.168421   0.143678   \n",
       "2        -0.968992                      0.0  0.759102  -0.623599         1.0                  1.979798                  0.125   -0.333333                  0.986838   -0.800000 -0.500  1.800453 -0.500000 -0.877933 -1.382858 -0.773099 -0.709672 -0.269231 -1.000000 -0.888889        0.0                      1.0     1.0        1.0                     1.0    -1.0                        0.0       0.0          0.0                       0.0       0.0                    1.894737   0.143678   \n",
       "3        -0.953488                      0.0  0.264339  -0.432432         0.0                 -0.202020                  0.500    0.666667                 -0.186298   -0.608451  1.250 -0.056479  1.500000  1.368053  1.667774  0.704379  1.461818  1.846154  1.000000  1.444444        0.0                      0.0     0.0        0.0                     0.0     0.0                        0.0       0.0          0.0                       0.0       0.0                   -0.378947   0.660920   \n",
       "4        -0.937984                      0.0 -0.364090  -0.001318         0.0                  0.565657                  0.125   -0.500000                  0.297551    0.487324 -0.250  0.503985 -0.500000 -0.469741 -0.277126 -0.209721 -0.259800 -0.048077 -0.666667 -0.555556        0.0                      0.0     0.0        0.0                     0.0     0.0                        0.0       0.0          0.0                       0.0       0.0                    0.421053   0.143678   \n",
       "\n",
       "   avg_Depth_sc  avg_effective_duration_sc  avg_vs_sc  avg_epicentral_distance_p  avg_MW_p  avg_Depth_p  avg_effective_duration_p  avg_vs_p  \n",
       "0      1.583333                  -0.708464   0.269175                   0.411867 -1.442219     0.837132                 -1.807614 -0.031616  \n",
       "1     -0.416667                   0.605364   0.051916                  -0.700173  0.591680    -0.202066                  0.145597 -0.616853  \n",
       "2     -0.416667                   0.960641  -0.821997                   4.754119  0.258860    -1.241264                  2.059642 -0.845567  \n",
       "3      0.583333                  -0.250087  -0.625181                  -0.700173  0.591680    -0.202066                  0.145597 -0.616853  \n",
       "4     -0.583333                   0.244458   0.500724                   2.953673 -0.110940    -0.894865                  0.140734 -0.003588  "
      ]
     },
     "execution_count": 26,
     "metadata": {},
     "output_type": "execute_result"
    }
   ],
   "source": [
    "scaled.head()"
   ]
  },
  {
   "cell_type": "code",
   "execution_count": 27,
   "metadata": {},
   "outputs": [],
   "source": [
    "scaled['target_id']=df['target_id']\n",
    "target_col=['target_id']"
   ]
  },
  {
   "cell_type": "code",
   "execution_count": 34,
   "metadata": {},
   "outputs": [],
   "source": [
    "scaled=scaled.fillna(0)"
   ]
  },
  {
   "cell_type": "markdown",
   "metadata": {},
   "source": [
    "# MODELLING"
   ]
  },
  {
   "cell_type": "code",
   "execution_count": 35,
   "metadata": {},
   "outputs": [],
   "source": [
    "from sklearn.model_selection import train_test_split\n",
    "from sklearn.linear_model import LogisticRegression\n",
    "from sklearn.metrics import confusion_matrix, accuracy_score, classification_report\n",
    "from sklearn.metrics import roc_auc_score, roc_curve, scorer\n",
    "from sklearn.metrics import f1_score\n",
    "import statsmodels.api as sm\n",
    "from sklearn.metrics import precision_score, recall_score\n",
    "from yellowbrick.classifier import DiscriminationThreshold\n",
    "\n",
    "#splitting train and test\n",
    "train, test = train_test_split(scaled, test_size=0.2, random_state=17)\n",
    "train_X = train.drop('target_id', axis=1)\n",
    "train_Y = train['target_id']\n",
    "test_X = test.drop('target_id', axis=1)\n",
    "test_Y = test['target_id']"
   ]
  },
  {
   "cell_type": "code",
   "execution_count": 36,
   "metadata": {},
   "outputs": [
    {
     "data": {
      "text/html": [
       "        <script type=\"text/javascript\">\n",
       "        window.PlotlyConfig = {MathJaxConfig: 'local'};\n",
       "        if (window.MathJax) {MathJax.Hub.Config({SVG: {font: \"STIX-Web\"}});}\n",
       "        if (typeof require !== 'undefined') {\n",
       "        require.undef(\"plotly\");\n",
       "        requirejs.config({\n",
       "            paths: {\n",
       "                'plotly': ['https://cdn.plot.ly/plotly-latest.min']\n",
       "            }\n",
       "        });\n",
       "        require(['plotly'], function(Plotly) {\n",
       "            window._Plotly = Plotly;\n",
       "        });\n",
       "        }\n",
       "        </script>\n",
       "        "
      ]
     },
     "metadata": {},
     "output_type": "display_data"
    }
   ],
   "source": [
    "import io\n",
    "import plotly.offline as py#visualization\n",
    "py.init_notebook_mode(connected=True)#visualization\n",
    "import plotly.graph_objs as go#visualization\n",
    "import plotly.tools as tls#visualization\n",
    "import plotly.figure_factory as ff#visualization\n",
    "\n",
    "\n",
    "\n",
    "cols = [column for column in train_X.columns]\n",
    "def earthquake_prediction(algorithm,training_x,testing_x,\n",
    "                             training_y,testing_y,cols,cf,threshold_plot) :\n",
    "    \n",
    "    #model\n",
    "    algorithm.fit(training_x,training_y)\n",
    "    predictions   = algorithm.predict(testing_x)\n",
    "    probabilities = algorithm.predict_proba(testing_x)\n",
    "    #coeffs\n",
    "    if   cf == \"coefficients\" :\n",
    "        coefficients  = pd.DataFrame(algorithm.coef_.ravel())\n",
    "    elif cf == \"features\" :\n",
    "        coefficients  = pd.DataFrame(algorithm.feature_importances_)\n",
    "        \n",
    "    column_df     = pd.DataFrame(cols)\n",
    "    coef_sumry    = (pd.merge(coefficients,column_df,left_index= True,\n",
    "                              right_index= True, how = \"left\"))\n",
    "    coef_sumry.columns = [\"coefficients\",\"features\"]\n",
    "    coef_sumry    = coef_sumry.sort_values(by = \"coefficients\",ascending = False)\n",
    "    \n",
    "    print (algorithm)\n",
    "    print (\"\\n Classification report : \\n\",classification_report(testing_y,predictions))\n",
    "    print (\"Accuracy   Score : \",accuracy_score(testing_y,predictions))\n",
    "    #confusion matrix\n",
    "    conf_matrix = confusion_matrix(testing_y,predictions)\n",
    "    #roc_auc_score\n",
    "    model_roc_auc = roc_auc_score(testing_y,predictions) \n",
    "    print (\"Area under curve : \",model_roc_auc,\"\\n\")\n",
    "    fpr,tpr,thresholds = roc_curve(testing_y,probabilities[:,1])\n",
    "    \n",
    "    #plot confusion matrix\n",
    "    trace1 = go.Heatmap(z = conf_matrix ,\n",
    "                        x = [\"Not churn\",\"Churn\"],\n",
    "                        y = [\"Not churn\",\"Churn\"],\n",
    "                        showscale  = False,colorscale = \"Picnic\",\n",
    "                        name = \"matrix\")\n",
    "    \n",
    "    #plot roc curve\n",
    "    trace2 = go.Scatter(x = fpr,y = tpr,\n",
    "                        name = \"Roc : \" + str(model_roc_auc),\n",
    "                        line = dict(color = ('rgb(22, 96, 167)'),width = 2))\n",
    "    trace3 = go.Scatter(x = [0,1],y=[0,1],\n",
    "                        line = dict(color = ('rgb(205, 12, 24)'),width = 2,\n",
    "                        dash = 'dot'))\n",
    "    \n",
    "    #plot coeffs\n",
    "    trace4 = go.Bar(x = coef_sumry[\"features\"],y = coef_sumry[\"coefficients\"],\n",
    "                    name = \"coefficients\",\n",
    "                    marker = dict(color = coef_sumry[\"coefficients\"],\n",
    "                                  colorscale = \"Picnic\",\n",
    "                                  line = dict(width = .6,color = \"black\")))\n",
    "    \n",
    "    #subplots\n",
    "    fig = tls.make_subplots(rows=2, cols=2, specs=[[{}, {}], [{'colspan': 2}, None]],\n",
    "                            subplot_titles=('Confusion Matrix',\n",
    "                                            'Receiver operating characteristic',\n",
    "                                            'Feature Importances'))\n",
    "    \n",
    "    fig.append_trace(trace1,1,1)\n",
    "    fig.append_trace(trace2,1,2)\n",
    "    fig.append_trace(trace3,1,2)\n",
    "    fig.append_trace(trace4,2,1)\n",
    "    \n",
    "    fig['layout'].update(showlegend=False, title=\"Model performance\" ,\n",
    "                         autosize = False,height = 900,width = 800,\n",
    "                         plot_bgcolor = 'rgba(240,240,240, 0.95)',\n",
    "                         paper_bgcolor = 'rgba(240,240,240, 0.95)',\n",
    "                         margin = dict(b = 195))\n",
    "    fig[\"layout\"][\"xaxis2\"].update(dict(title = \"false positive rate\"))\n",
    "    fig[\"layout\"][\"yaxis2\"].update(dict(title = \"true positive rate\"))\n",
    "    fig[\"layout\"][\"xaxis3\"].update(dict(showgrid = True,tickfont = dict(size = 10),\n",
    "                                        tickangle = 90))\n",
    "    py.iplot(fig)\n",
    "    \n",
    "    if threshold_plot == True : \n",
    "        visualizer = DiscriminationThreshold(algorithm)\n",
    "        visualizer.fit(training_x,training_y)\n",
    "        visualizer.poof()\n",
    "    preds = algorithm.predict(test_X)\n",
    "    return \n",
    "    "
   ]
  },
  {
   "cell_type": "code",
   "execution_count": 37,
   "metadata": {},
   "outputs": [],
   "source": [
    "logit = LogisticRegression(C=1.0, class_weight=None, dual=False, fit_intercept=True,\n",
    "                          intercept_scaling=1, max_iter=100, multi_class='ovr', n_jobs=1,\n",
    "                          penalty='l2', random_state=None, solver='liblinear', tol=0.0001,\n",
    "                          verbose=1, warm_start=False)"
   ]
  },
  {
   "cell_type": "code",
   "execution_count": 38,
   "metadata": {},
   "outputs": [
    {
     "name": "stdout",
     "output_type": "stream",
     "text": [
      "[LibLinear]"
     ]
    }
   ],
   "source": [
    "logit.fit(train_X, train_Y)\n",
    "predictions = logit.predict(test_X)"
   ]
  },
  {
   "cell_type": "code",
   "execution_count": 40,
   "metadata": {},
   "outputs": [
    {
     "name": "stdout",
     "output_type": "stream",
     "text": [
      "[LibLinear]LogisticRegression(C=1.0, class_weight=None, dual=False, fit_intercept=True,\n",
      "                   intercept_scaling=1, l1_ratio=None, max_iter=100,\n",
      "                   multi_class='ovr', n_jobs=1, penalty='l2', random_state=None,\n",
      "                   solver='liblinear', tol=0.0001, verbose=1, warm_start=False)\n",
      "\n",
      " Classification report : \n",
      "               precision    recall  f1-score   support\n",
      "\n",
      "         0.0       0.92      0.96      0.94        25\n",
      "         1.0       0.00      0.00      0.00         2\n",
      "\n",
      "    accuracy                           0.89        27\n",
      "   macro avg       0.46      0.48      0.47        27\n",
      "weighted avg       0.85      0.89      0.87        27\n",
      "\n",
      "Accuracy   Score :  0.8888888888888888\n",
      "Area under curve :  0.48 \n",
      "\n"
     ]
    },
    {
     "name": "stderr",
     "output_type": "stream",
     "text": [
      "/anaconda3/lib/python3.7/site-packages/plotly/tools.py:465: DeprecationWarning:\n",
      "\n",
      "plotly.tools.make_subplots is deprecated, please use plotly.subplots.make_subplots instead\n",
      "\n"
     ]
    },
    {
     "data": {
      "application/vnd.plotly.v1+json": {
       "config": {
        "linkText": "Export to plot.ly",
        "plotlyServerURL": "https://plot.ly",
        "showLink": false
       },
       "data": [
        {
         "colorscale": [
          [
           0,
           "rgb(0,0,255)"
          ],
          [
           0.1,
           "rgb(51,153,255)"
          ],
          [
           0.2,
           "rgb(102,204,255)"
          ],
          [
           0.3,
           "rgb(153,204,255)"
          ],
          [
           0.4,
           "rgb(204,204,255)"
          ],
          [
           0.5,
           "rgb(255,255,255)"
          ],
          [
           0.6,
           "rgb(255,204,255)"
          ],
          [
           0.7,
           "rgb(255,153,255)"
          ],
          [
           0.8,
           "rgb(255,102,204)"
          ],
          [
           0.9,
           "rgb(255,102,102)"
          ],
          [
           1,
           "rgb(255,0,0)"
          ]
         ],
         "name": "matrix",
         "showscale": false,
         "type": "heatmap",
         "x": [
          "Not churn",
          "Churn"
         ],
         "xaxis": "x",
         "y": [
          "Not churn",
          "Churn"
         ],
         "yaxis": "y",
         "z": [
          [
           24,
           1
          ],
          [
           2,
           0
          ]
         ]
        },
        {
         "line": {
          "color": "rgb(22, 96, 167)",
          "width": 2
         },
         "name": "Roc : 0.48",
         "type": "scatter",
         "x": [
          0,
          0.04,
          0.16,
          0.16,
          0.24,
          0.24,
          1
         ],
         "xaxis": "x2",
         "y": [
          0,
          0,
          0,
          0.5,
          0.5,
          1,
          1
         ],
         "yaxis": "y2"
        },
        {
         "line": {
          "color": "rgb(205, 12, 24)",
          "dash": "dot",
          "width": 2
         },
         "type": "scatter",
         "x": [
          0,
          1
         ],
         "xaxis": "x2",
         "y": [
          0,
          1
         ],
         "yaxis": "y2"
        },
        {
         "marker": {
          "color": [
           1.4527886843907278,
           1.2926793486326391,
           0.5393733168351286,
           0.4697828525252195,
           0.4086551619118435,
           0.4038256005743314,
           0.31852796666786215,
           0.2964466244652527,
           0.24763747338494155,
           0.21397751269621557,
           0.17388859990569341,
           0.1693903698442332,
           0.08551384750170976,
           0.039618036254048083,
           0.014325085863756318,
           0.014325085863756318,
           0.014325085863756318,
           0.014325085863756318,
           0.014325085863756318,
           0.011744010348563129,
           0,
           0,
           0,
           0,
           0,
           -0.0015039027940028074,
           -0.014325085863756318,
           -0.015269546488453817,
           -0.101406508316153,
           -0.16123643616532335,
           -0.1755783760038508,
           -0.2827113601997355,
           -0.287509727035882,
           -0.2933289230365561,
           -0.3103081880183156,
           -0.3283977108331452,
           -0.34648910152468715,
           -0.4100016820735402,
           -0.6129424821080941,
           -0.7750826110074959
          ],
          "colorscale": [
           [
            0,
            "rgb(0,0,255)"
           ],
           [
            0.1,
            "rgb(51,153,255)"
           ],
           [
            0.2,
            "rgb(102,204,255)"
           ],
           [
            0.3,
            "rgb(153,204,255)"
           ],
           [
            0.4,
            "rgb(204,204,255)"
           ],
           [
            0.5,
            "rgb(255,255,255)"
           ],
           [
            0.6,
            "rgb(255,204,255)"
           ],
           [
            0.7,
            "rgb(255,153,255)"
           ],
           [
            0.8,
            "rgb(255,102,204)"
           ],
           [
            0.9,
            "rgb(255,102,102)"
           ],
           [
            1,
            "rgb(255,0,0)"
           ]
          ],
          "line": {
           "color": "black",
           "width": 0.6
          }
         },
         "name": "coefficients",
         "type": "bar",
         "x": [
          "Earthquake No. ",
          "Time Series Avalability",
          "avg_effective_duration_p",
          "Epicentral Distance (KM)",
          "Eq.5",
          "avg_Depth_sc",
          "Eq.2",
          "Moment Magnitude (MW)",
          "avg_vs_p",
          "Eq.8",
          "Longitude",
          "avg_epicentral_distance_p",
          "Eq.7",
          "Vs30 (m/s)",
          "Fault Type",
          "avg_effective_duration",
          "avg_Depth",
          "avg_MW",
          "avg_epicentral_distance",
          "avg_effective_duration_sc",
          "avg_vs_r",
          "avg_MW_r",
          "avg_effective_duration_r",
          "avg_Depth_r",
          "avg_epicentral_distance_r",
          "avg_vs_sc",
          "avg_vs",
          "Latitude",
          "Eq.3",
          "Eq.10",
          "Eq.4",
          "avg_Depth_p",
          "Eq.6",
          "avg_MW_sc",
          "avg_MW_p",
          "Eq.9",
          "Effective duration (s) L",
          "Depth (km)",
          "Eq.1 ",
          "avg_epicentral_distance_sc"
         ],
         "xaxis": "x3",
         "y": [
          1.4527886843907278,
          1.2926793486326391,
          0.5393733168351286,
          0.4697828525252195,
          0.4086551619118435,
          0.4038256005743314,
          0.31852796666786215,
          0.2964466244652527,
          0.24763747338494155,
          0.21397751269621557,
          0.17388859990569341,
          0.1693903698442332,
          0.08551384750170976,
          0.039618036254048083,
          0.014325085863756318,
          0.014325085863756318,
          0.014325085863756318,
          0.014325085863756318,
          0.014325085863756318,
          0.011744010348563129,
          0,
          0,
          0,
          0,
          0,
          -0.0015039027940028074,
          -0.014325085863756318,
          -0.015269546488453817,
          -0.101406508316153,
          -0.16123643616532335,
          -0.1755783760038508,
          -0.2827113601997355,
          -0.287509727035882,
          -0.2933289230365561,
          -0.3103081880183156,
          -0.3283977108331452,
          -0.34648910152468715,
          -0.4100016820735402,
          -0.6129424821080941,
          -0.7750826110074959
         ],
         "yaxis": "y3"
        }
       ],
       "layout": {
        "annotations": [
         {
          "font": {
           "size": 16
          },
          "showarrow": false,
          "text": "Confusion Matrix",
          "x": 0.225,
          "xanchor": "center",
          "xref": "paper",
          "y": 1,
          "yanchor": "bottom",
          "yref": "paper"
         },
         {
          "font": {
           "size": 16
          },
          "showarrow": false,
          "text": "Receiver operating characteristic",
          "x": 0.775,
          "xanchor": "center",
          "xref": "paper",
          "y": 1,
          "yanchor": "bottom",
          "yref": "paper"
         },
         {
          "font": {
           "size": 16
          },
          "showarrow": false,
          "text": "Feature Importances",
          "x": 0.5,
          "xanchor": "center",
          "xref": "paper",
          "y": 0.375,
          "yanchor": "bottom",
          "yref": "paper"
         }
        ],
        "autosize": false,
        "height": 900,
        "margin": {
         "b": 195
        },
        "paper_bgcolor": "rgba(240,240,240, 0.95)",
        "plot_bgcolor": "rgba(240,240,240, 0.95)",
        "showlegend": false,
        "template": {
         "data": {
          "bar": [
           {
            "error_x": {
             "color": "#2a3f5f"
            },
            "error_y": {
             "color": "#2a3f5f"
            },
            "marker": {
             "line": {
              "color": "#E5ECF6",
              "width": 0.5
             }
            },
            "type": "bar"
           }
          ],
          "barpolar": [
           {
            "marker": {
             "line": {
              "color": "#E5ECF6",
              "width": 0.5
             }
            },
            "type": "barpolar"
           }
          ],
          "carpet": [
           {
            "aaxis": {
             "endlinecolor": "#2a3f5f",
             "gridcolor": "white",
             "linecolor": "white",
             "minorgridcolor": "white",
             "startlinecolor": "#2a3f5f"
            },
            "baxis": {
             "endlinecolor": "#2a3f5f",
             "gridcolor": "white",
             "linecolor": "white",
             "minorgridcolor": "white",
             "startlinecolor": "#2a3f5f"
            },
            "type": "carpet"
           }
          ],
          "choropleth": [
           {
            "colorbar": {
             "outlinewidth": 0,
             "ticks": ""
            },
            "type": "choropleth"
           }
          ],
          "contour": [
           {
            "colorbar": {
             "outlinewidth": 0,
             "ticks": ""
            },
            "colorscale": [
             [
              0,
              "#0d0887"
             ],
             [
              0.1111111111111111,
              "#46039f"
             ],
             [
              0.2222222222222222,
              "#7201a8"
             ],
             [
              0.3333333333333333,
              "#9c179e"
             ],
             [
              0.4444444444444444,
              "#bd3786"
             ],
             [
              0.5555555555555556,
              "#d8576b"
             ],
             [
              0.6666666666666666,
              "#ed7953"
             ],
             [
              0.7777777777777778,
              "#fb9f3a"
             ],
             [
              0.8888888888888888,
              "#fdca26"
             ],
             [
              1,
              "#f0f921"
             ]
            ],
            "type": "contour"
           }
          ],
          "contourcarpet": [
           {
            "colorbar": {
             "outlinewidth": 0,
             "ticks": ""
            },
            "type": "contourcarpet"
           }
          ],
          "heatmap": [
           {
            "colorbar": {
             "outlinewidth": 0,
             "ticks": ""
            },
            "colorscale": [
             [
              0,
              "#0d0887"
             ],
             [
              0.1111111111111111,
              "#46039f"
             ],
             [
              0.2222222222222222,
              "#7201a8"
             ],
             [
              0.3333333333333333,
              "#9c179e"
             ],
             [
              0.4444444444444444,
              "#bd3786"
             ],
             [
              0.5555555555555556,
              "#d8576b"
             ],
             [
              0.6666666666666666,
              "#ed7953"
             ],
             [
              0.7777777777777778,
              "#fb9f3a"
             ],
             [
              0.8888888888888888,
              "#fdca26"
             ],
             [
              1,
              "#f0f921"
             ]
            ],
            "type": "heatmap"
           }
          ],
          "heatmapgl": [
           {
            "colorbar": {
             "outlinewidth": 0,
             "ticks": ""
            },
            "colorscale": [
             [
              0,
              "#0d0887"
             ],
             [
              0.1111111111111111,
              "#46039f"
             ],
             [
              0.2222222222222222,
              "#7201a8"
             ],
             [
              0.3333333333333333,
              "#9c179e"
             ],
             [
              0.4444444444444444,
              "#bd3786"
             ],
             [
              0.5555555555555556,
              "#d8576b"
             ],
             [
              0.6666666666666666,
              "#ed7953"
             ],
             [
              0.7777777777777778,
              "#fb9f3a"
             ],
             [
              0.8888888888888888,
              "#fdca26"
             ],
             [
              1,
              "#f0f921"
             ]
            ],
            "type": "heatmapgl"
           }
          ],
          "histogram": [
           {
            "marker": {
             "colorbar": {
              "outlinewidth": 0,
              "ticks": ""
             }
            },
            "type": "histogram"
           }
          ],
          "histogram2d": [
           {
            "colorbar": {
             "outlinewidth": 0,
             "ticks": ""
            },
            "colorscale": [
             [
              0,
              "#0d0887"
             ],
             [
              0.1111111111111111,
              "#46039f"
             ],
             [
              0.2222222222222222,
              "#7201a8"
             ],
             [
              0.3333333333333333,
              "#9c179e"
             ],
             [
              0.4444444444444444,
              "#bd3786"
             ],
             [
              0.5555555555555556,
              "#d8576b"
             ],
             [
              0.6666666666666666,
              "#ed7953"
             ],
             [
              0.7777777777777778,
              "#fb9f3a"
             ],
             [
              0.8888888888888888,
              "#fdca26"
             ],
             [
              1,
              "#f0f921"
             ]
            ],
            "type": "histogram2d"
           }
          ],
          "histogram2dcontour": [
           {
            "colorbar": {
             "outlinewidth": 0,
             "ticks": ""
            },
            "colorscale": [
             [
              0,
              "#0d0887"
             ],
             [
              0.1111111111111111,
              "#46039f"
             ],
             [
              0.2222222222222222,
              "#7201a8"
             ],
             [
              0.3333333333333333,
              "#9c179e"
             ],
             [
              0.4444444444444444,
              "#bd3786"
             ],
             [
              0.5555555555555556,
              "#d8576b"
             ],
             [
              0.6666666666666666,
              "#ed7953"
             ],
             [
              0.7777777777777778,
              "#fb9f3a"
             ],
             [
              0.8888888888888888,
              "#fdca26"
             ],
             [
              1,
              "#f0f921"
             ]
            ],
            "type": "histogram2dcontour"
           }
          ],
          "mesh3d": [
           {
            "colorbar": {
             "outlinewidth": 0,
             "ticks": ""
            },
            "type": "mesh3d"
           }
          ],
          "parcoords": [
           {
            "line": {
             "colorbar": {
              "outlinewidth": 0,
              "ticks": ""
             }
            },
            "type": "parcoords"
           }
          ],
          "scatter": [
           {
            "marker": {
             "colorbar": {
              "outlinewidth": 0,
              "ticks": ""
             }
            },
            "type": "scatter"
           }
          ],
          "scatter3d": [
           {
            "line": {
             "colorbar": {
              "outlinewidth": 0,
              "ticks": ""
             }
            },
            "marker": {
             "colorbar": {
              "outlinewidth": 0,
              "ticks": ""
             }
            },
            "type": "scatter3d"
           }
          ],
          "scattercarpet": [
           {
            "marker": {
             "colorbar": {
              "outlinewidth": 0,
              "ticks": ""
             }
            },
            "type": "scattercarpet"
           }
          ],
          "scattergeo": [
           {
            "marker": {
             "colorbar": {
              "outlinewidth": 0,
              "ticks": ""
             }
            },
            "type": "scattergeo"
           }
          ],
          "scattergl": [
           {
            "marker": {
             "colorbar": {
              "outlinewidth": 0,
              "ticks": ""
             }
            },
            "type": "scattergl"
           }
          ],
          "scattermapbox": [
           {
            "marker": {
             "colorbar": {
              "outlinewidth": 0,
              "ticks": ""
             }
            },
            "type": "scattermapbox"
           }
          ],
          "scatterpolar": [
           {
            "marker": {
             "colorbar": {
              "outlinewidth": 0,
              "ticks": ""
             }
            },
            "type": "scatterpolar"
           }
          ],
          "scatterpolargl": [
           {
            "marker": {
             "colorbar": {
              "outlinewidth": 0,
              "ticks": ""
             }
            },
            "type": "scatterpolargl"
           }
          ],
          "scatterternary": [
           {
            "marker": {
             "colorbar": {
              "outlinewidth": 0,
              "ticks": ""
             }
            },
            "type": "scatterternary"
           }
          ],
          "surface": [
           {
            "colorbar": {
             "outlinewidth": 0,
             "ticks": ""
            },
            "colorscale": [
             [
              0,
              "#0d0887"
             ],
             [
              0.1111111111111111,
              "#46039f"
             ],
             [
              0.2222222222222222,
              "#7201a8"
             ],
             [
              0.3333333333333333,
              "#9c179e"
             ],
             [
              0.4444444444444444,
              "#bd3786"
             ],
             [
              0.5555555555555556,
              "#d8576b"
             ],
             [
              0.6666666666666666,
              "#ed7953"
             ],
             [
              0.7777777777777778,
              "#fb9f3a"
             ],
             [
              0.8888888888888888,
              "#fdca26"
             ],
             [
              1,
              "#f0f921"
             ]
            ],
            "type": "surface"
           }
          ],
          "table": [
           {
            "cells": {
             "fill": {
              "color": "#EBF0F8"
             },
             "line": {
              "color": "white"
             }
            },
            "header": {
             "fill": {
              "color": "#C8D4E3"
             },
             "line": {
              "color": "white"
             }
            },
            "type": "table"
           }
          ]
         },
         "layout": {
          "annotationdefaults": {
           "arrowcolor": "#2a3f5f",
           "arrowhead": 0,
           "arrowwidth": 1
          },
          "colorscale": {
           "diverging": [
            [
             0,
             "#8e0152"
            ],
            [
             0.1,
             "#c51b7d"
            ],
            [
             0.2,
             "#de77ae"
            ],
            [
             0.3,
             "#f1b6da"
            ],
            [
             0.4,
             "#fde0ef"
            ],
            [
             0.5,
             "#f7f7f7"
            ],
            [
             0.6,
             "#e6f5d0"
            ],
            [
             0.7,
             "#b8e186"
            ],
            [
             0.8,
             "#7fbc41"
            ],
            [
             0.9,
             "#4d9221"
            ],
            [
             1,
             "#276419"
            ]
           ],
           "sequential": [
            [
             0,
             "#0d0887"
            ],
            [
             0.1111111111111111,
             "#46039f"
            ],
            [
             0.2222222222222222,
             "#7201a8"
            ],
            [
             0.3333333333333333,
             "#9c179e"
            ],
            [
             0.4444444444444444,
             "#bd3786"
            ],
            [
             0.5555555555555556,
             "#d8576b"
            ],
            [
             0.6666666666666666,
             "#ed7953"
            ],
            [
             0.7777777777777778,
             "#fb9f3a"
            ],
            [
             0.8888888888888888,
             "#fdca26"
            ],
            [
             1,
             "#f0f921"
            ]
           ],
           "sequentialminus": [
            [
             0,
             "#0d0887"
            ],
            [
             0.1111111111111111,
             "#46039f"
            ],
            [
             0.2222222222222222,
             "#7201a8"
            ],
            [
             0.3333333333333333,
             "#9c179e"
            ],
            [
             0.4444444444444444,
             "#bd3786"
            ],
            [
             0.5555555555555556,
             "#d8576b"
            ],
            [
             0.6666666666666666,
             "#ed7953"
            ],
            [
             0.7777777777777778,
             "#fb9f3a"
            ],
            [
             0.8888888888888888,
             "#fdca26"
            ],
            [
             1,
             "#f0f921"
            ]
           ]
          },
          "colorway": [
           "#636efa",
           "#EF553B",
           "#00cc96",
           "#ab63fa",
           "#FFA15A",
           "#19d3f3",
           "#FF6692",
           "#B6E880",
           "#FF97FF",
           "#FECB52"
          ],
          "font": {
           "color": "#2a3f5f"
          },
          "geo": {
           "bgcolor": "white",
           "lakecolor": "white",
           "landcolor": "#E5ECF6",
           "showlakes": true,
           "showland": true,
           "subunitcolor": "white"
          },
          "hoverlabel": {
           "align": "left"
          },
          "hovermode": "closest",
          "mapbox": {
           "style": "light"
          },
          "paper_bgcolor": "white",
          "plot_bgcolor": "#E5ECF6",
          "polar": {
           "angularaxis": {
            "gridcolor": "white",
            "linecolor": "white",
            "ticks": ""
           },
           "bgcolor": "#E5ECF6",
           "radialaxis": {
            "gridcolor": "white",
            "linecolor": "white",
            "ticks": ""
           }
          },
          "scene": {
           "xaxis": {
            "backgroundcolor": "#E5ECF6",
            "gridcolor": "white",
            "gridwidth": 2,
            "linecolor": "white",
            "showbackground": true,
            "ticks": "",
            "zerolinecolor": "white"
           },
           "yaxis": {
            "backgroundcolor": "#E5ECF6",
            "gridcolor": "white",
            "gridwidth": 2,
            "linecolor": "white",
            "showbackground": true,
            "ticks": "",
            "zerolinecolor": "white"
           },
           "zaxis": {
            "backgroundcolor": "#E5ECF6",
            "gridcolor": "white",
            "gridwidth": 2,
            "linecolor": "white",
            "showbackground": true,
            "ticks": "",
            "zerolinecolor": "white"
           }
          },
          "shapedefaults": {
           "line": {
            "color": "#2a3f5f"
           }
          },
          "ternary": {
           "aaxis": {
            "gridcolor": "white",
            "linecolor": "white",
            "ticks": ""
           },
           "baxis": {
            "gridcolor": "white",
            "linecolor": "white",
            "ticks": ""
           },
           "bgcolor": "#E5ECF6",
           "caxis": {
            "gridcolor": "white",
            "linecolor": "white",
            "ticks": ""
           }
          },
          "title": {
           "x": 0.05
          },
          "xaxis": {
           "automargin": true,
           "gridcolor": "white",
           "linecolor": "white",
           "ticks": "",
           "zerolinecolor": "white",
           "zerolinewidth": 2
          },
          "yaxis": {
           "automargin": true,
           "gridcolor": "white",
           "linecolor": "white",
           "ticks": "",
           "zerolinecolor": "white",
           "zerolinewidth": 2
          }
         }
        },
        "title": {
         "text": "Model performance"
        },
        "width": 800,
        "xaxis": {
         "anchor": "y",
         "domain": [
          0,
          0.45
         ]
        },
        "xaxis2": {
         "anchor": "y2",
         "domain": [
          0.55,
          1
         ],
         "title": {
          "text": "false positive rate"
         }
        },
        "xaxis3": {
         "anchor": "y3",
         "domain": [
          0,
          1
         ],
         "showgrid": true,
         "tickangle": 90,
         "tickfont": {
          "size": 10
         }
        },
        "yaxis": {
         "anchor": "x",
         "domain": [
          0.625,
          1
         ]
        },
        "yaxis2": {
         "anchor": "x2",
         "domain": [
          0.625,
          1
         ],
         "title": {
          "text": "true positive rate"
         }
        },
        "yaxis3": {
         "anchor": "x3",
         "domain": [
          0,
          0.375
         ]
        }
       }
      },
      "text/html": [
       "<div>\n",
       "        \n",
       "        \n",
       "            <div id=\"8c592828-a1ba-4cd3-9057-b7ccce812c23\" class=\"plotly-graph-div\" style=\"height:900px; width:800px;\"></div>\n",
       "            <script type=\"text/javascript\">\n",
       "                require([\"plotly\"], function(Plotly) {\n",
       "                    window.PLOTLYENV=window.PLOTLYENV || {};\n",
       "                    \n",
       "                if (document.getElementById(\"8c592828-a1ba-4cd3-9057-b7ccce812c23\")) {\n",
       "                    Plotly.newPlot(\n",
       "                        '8c592828-a1ba-4cd3-9057-b7ccce812c23',\n",
       "                        [{\"colorscale\": [[0.0, \"rgb(0,0,255)\"], [0.1, \"rgb(51,153,255)\"], [0.2, \"rgb(102,204,255)\"], [0.3, \"rgb(153,204,255)\"], [0.4, \"rgb(204,204,255)\"], [0.5, \"rgb(255,255,255)\"], [0.6, \"rgb(255,204,255)\"], [0.7, \"rgb(255,153,255)\"], [0.8, \"rgb(255,102,204)\"], [0.9, \"rgb(255,102,102)\"], [1.0, \"rgb(255,0,0)\"]], \"name\": \"matrix\", \"showscale\": false, \"type\": \"heatmap\", \"x\": [\"Not churn\", \"Churn\"], \"xaxis\": \"x\", \"y\": [\"Not churn\", \"Churn\"], \"yaxis\": \"y\", \"z\": [[24, 1], [2, 0]]}, {\"line\": {\"color\": \"rgb(22, 96, 167)\", \"width\": 2}, \"name\": \"Roc : 0.48\", \"type\": \"scatter\", \"x\": [0.0, 0.04, 0.16, 0.16, 0.24, 0.24, 1.0], \"xaxis\": \"x2\", \"y\": [0.0, 0.0, 0.0, 0.5, 0.5, 1.0, 1.0], \"yaxis\": \"y2\"}, {\"line\": {\"color\": \"rgb(205, 12, 24)\", \"dash\": \"dot\", \"width\": 2}, \"type\": \"scatter\", \"x\": [0, 1], \"xaxis\": \"x2\", \"y\": [0, 1], \"yaxis\": \"y2\"}, {\"marker\": {\"color\": [1.4527886843907278, 1.2926793486326391, 0.5393733168351286, 0.4697828525252195, 0.4086551619118435, 0.4038256005743314, 0.31852796666786215, 0.2964466244652527, 0.24763747338494155, 0.21397751269621557, 0.17388859990569341, 0.1693903698442332, 0.08551384750170976, 0.039618036254048083, 0.014325085863756318, 0.014325085863756318, 0.014325085863756318, 0.014325085863756318, 0.014325085863756318, 0.011744010348563129, 0.0, 0.0, 0.0, 0.0, 0.0, -0.0015039027940028074, -0.014325085863756318, -0.015269546488453817, -0.101406508316153, -0.16123643616532335, -0.1755783760038508, -0.2827113601997355, -0.287509727035882, -0.2933289230365561, -0.3103081880183156, -0.3283977108331452, -0.34648910152468715, -0.4100016820735402, -0.6129424821080941, -0.7750826110074959], \"colorscale\": [[0.0, \"rgb(0,0,255)\"], [0.1, \"rgb(51,153,255)\"], [0.2, \"rgb(102,204,255)\"], [0.3, \"rgb(153,204,255)\"], [0.4, \"rgb(204,204,255)\"], [0.5, \"rgb(255,255,255)\"], [0.6, \"rgb(255,204,255)\"], [0.7, \"rgb(255,153,255)\"], [0.8, \"rgb(255,102,204)\"], [0.9, \"rgb(255,102,102)\"], [1.0, \"rgb(255,0,0)\"]], \"line\": {\"color\": \"black\", \"width\": 0.6}}, \"name\": \"coefficients\", \"type\": \"bar\", \"x\": [\"Earthquake No. \", \"Time Series Avalability\", \"avg_effective_duration_p\", \"Epicentral Distance (KM)\", \"Eq.5\", \"avg_Depth_sc\", \"Eq.2\", \"Moment Magnitude (MW)\", \"avg_vs_p\", \"Eq.8\", \"Longitude\", \"avg_epicentral_distance_p\", \"Eq.7\", \"Vs30 (m/s)\", \"Fault Type\", \"avg_effective_duration\", \"avg_Depth\", \"avg_MW\", \"avg_epicentral_distance\", \"avg_effective_duration_sc\", \"avg_vs_r\", \"avg_MW_r\", \"avg_effective_duration_r\", \"avg_Depth_r\", \"avg_epicentral_distance_r\", \"avg_vs_sc\", \"avg_vs\", \"Latitude\", \"Eq.3\", \"Eq.10\", \"Eq.4\", \"avg_Depth_p\", \"Eq.6\", \"avg_MW_sc\", \"avg_MW_p\", \"Eq.9\", \"Effective duration (s) L\", \"Depth (km)\", \"Eq.1 \", \"avg_epicentral_distance_sc\"], \"xaxis\": \"x3\", \"y\": [1.4527886843907278, 1.2926793486326391, 0.5393733168351286, 0.4697828525252195, 0.4086551619118435, 0.4038256005743314, 0.31852796666786215, 0.2964466244652527, 0.24763747338494155, 0.21397751269621557, 0.17388859990569341, 0.1693903698442332, 0.08551384750170976, 0.039618036254048083, 0.014325085863756318, 0.014325085863756318, 0.014325085863756318, 0.014325085863756318, 0.014325085863756318, 0.011744010348563129, 0.0, 0.0, 0.0, 0.0, 0.0, -0.0015039027940028074, -0.014325085863756318, -0.015269546488453817, -0.101406508316153, -0.16123643616532335, -0.1755783760038508, -0.2827113601997355, -0.287509727035882, -0.2933289230365561, -0.3103081880183156, -0.3283977108331452, -0.34648910152468715, -0.4100016820735402, -0.6129424821080941, -0.7750826110074959], \"yaxis\": \"y3\"}],\n",
       "                        {\"annotations\": [{\"font\": {\"size\": 16}, \"showarrow\": false, \"text\": \"Confusion Matrix\", \"x\": 0.225, \"xanchor\": \"center\", \"xref\": \"paper\", \"y\": 1.0, \"yanchor\": \"bottom\", \"yref\": \"paper\"}, {\"font\": {\"size\": 16}, \"showarrow\": false, \"text\": \"Receiver operating characteristic\", \"x\": 0.775, \"xanchor\": \"center\", \"xref\": \"paper\", \"y\": 1.0, \"yanchor\": \"bottom\", \"yref\": \"paper\"}, {\"font\": {\"size\": 16}, \"showarrow\": false, \"text\": \"Feature Importances\", \"x\": 0.5, \"xanchor\": \"center\", \"xref\": \"paper\", \"y\": 0.375, \"yanchor\": \"bottom\", \"yref\": \"paper\"}], \"autosize\": false, \"height\": 900, \"margin\": {\"b\": 195}, \"paper_bgcolor\": \"rgba(240,240,240, 0.95)\", \"plot_bgcolor\": \"rgba(240,240,240, 0.95)\", \"showlegend\": false, \"template\": {\"data\": {\"bar\": [{\"error_x\": {\"color\": \"#2a3f5f\"}, \"error_y\": {\"color\": \"#2a3f5f\"}, \"marker\": {\"line\": {\"color\": \"#E5ECF6\", \"width\": 0.5}}, \"type\": \"bar\"}], \"barpolar\": [{\"marker\": {\"line\": {\"color\": \"#E5ECF6\", \"width\": 0.5}}, \"type\": \"barpolar\"}], \"carpet\": [{\"aaxis\": {\"endlinecolor\": \"#2a3f5f\", \"gridcolor\": \"white\", \"linecolor\": \"white\", \"minorgridcolor\": \"white\", \"startlinecolor\": \"#2a3f5f\"}, \"baxis\": {\"endlinecolor\": \"#2a3f5f\", \"gridcolor\": \"white\", \"linecolor\": \"white\", \"minorgridcolor\": \"white\", \"startlinecolor\": \"#2a3f5f\"}, \"type\": \"carpet\"}], \"choropleth\": [{\"colorbar\": {\"outlinewidth\": 0, \"ticks\": \"\"}, \"type\": \"choropleth\"}], \"contour\": [{\"colorbar\": {\"outlinewidth\": 0, \"ticks\": \"\"}, \"colorscale\": [[0.0, \"#0d0887\"], [0.1111111111111111, \"#46039f\"], [0.2222222222222222, \"#7201a8\"], [0.3333333333333333, \"#9c179e\"], [0.4444444444444444, \"#bd3786\"], [0.5555555555555556, \"#d8576b\"], [0.6666666666666666, \"#ed7953\"], [0.7777777777777778, \"#fb9f3a\"], [0.8888888888888888, \"#fdca26\"], [1.0, \"#f0f921\"]], \"type\": \"contour\"}], \"contourcarpet\": [{\"colorbar\": {\"outlinewidth\": 0, \"ticks\": \"\"}, \"type\": \"contourcarpet\"}], \"heatmap\": [{\"colorbar\": {\"outlinewidth\": 0, \"ticks\": \"\"}, \"colorscale\": [[0.0, \"#0d0887\"], [0.1111111111111111, \"#46039f\"], [0.2222222222222222, \"#7201a8\"], [0.3333333333333333, \"#9c179e\"], [0.4444444444444444, \"#bd3786\"], [0.5555555555555556, \"#d8576b\"], [0.6666666666666666, \"#ed7953\"], [0.7777777777777778, \"#fb9f3a\"], [0.8888888888888888, \"#fdca26\"], [1.0, \"#f0f921\"]], \"type\": \"heatmap\"}], \"heatmapgl\": [{\"colorbar\": {\"outlinewidth\": 0, \"ticks\": \"\"}, \"colorscale\": [[0.0, \"#0d0887\"], [0.1111111111111111, \"#46039f\"], [0.2222222222222222, \"#7201a8\"], [0.3333333333333333, \"#9c179e\"], [0.4444444444444444, \"#bd3786\"], [0.5555555555555556, \"#d8576b\"], [0.6666666666666666, \"#ed7953\"], [0.7777777777777778, \"#fb9f3a\"], [0.8888888888888888, \"#fdca26\"], [1.0, \"#f0f921\"]], \"type\": \"heatmapgl\"}], \"histogram\": [{\"marker\": {\"colorbar\": {\"outlinewidth\": 0, \"ticks\": \"\"}}, \"type\": \"histogram\"}], \"histogram2d\": [{\"colorbar\": {\"outlinewidth\": 0, \"ticks\": \"\"}, \"colorscale\": [[0.0, \"#0d0887\"], [0.1111111111111111, \"#46039f\"], [0.2222222222222222, \"#7201a8\"], [0.3333333333333333, \"#9c179e\"], [0.4444444444444444, \"#bd3786\"], [0.5555555555555556, \"#d8576b\"], [0.6666666666666666, \"#ed7953\"], [0.7777777777777778, \"#fb9f3a\"], [0.8888888888888888, \"#fdca26\"], [1.0, \"#f0f921\"]], \"type\": \"histogram2d\"}], \"histogram2dcontour\": [{\"colorbar\": {\"outlinewidth\": 0, \"ticks\": \"\"}, \"colorscale\": [[0.0, \"#0d0887\"], [0.1111111111111111, \"#46039f\"], [0.2222222222222222, \"#7201a8\"], [0.3333333333333333, \"#9c179e\"], [0.4444444444444444, \"#bd3786\"], [0.5555555555555556, \"#d8576b\"], [0.6666666666666666, \"#ed7953\"], [0.7777777777777778, \"#fb9f3a\"], [0.8888888888888888, \"#fdca26\"], [1.0, \"#f0f921\"]], \"type\": \"histogram2dcontour\"}], \"mesh3d\": [{\"colorbar\": {\"outlinewidth\": 0, \"ticks\": \"\"}, \"type\": \"mesh3d\"}], \"parcoords\": [{\"line\": {\"colorbar\": {\"outlinewidth\": 0, \"ticks\": \"\"}}, \"type\": \"parcoords\"}], \"scatter\": [{\"marker\": {\"colorbar\": {\"outlinewidth\": 0, \"ticks\": \"\"}}, \"type\": \"scatter\"}], \"scatter3d\": [{\"line\": {\"colorbar\": {\"outlinewidth\": 0, \"ticks\": \"\"}}, \"marker\": {\"colorbar\": {\"outlinewidth\": 0, \"ticks\": \"\"}}, \"type\": \"scatter3d\"}], \"scattercarpet\": [{\"marker\": {\"colorbar\": {\"outlinewidth\": 0, \"ticks\": \"\"}}, \"type\": \"scattercarpet\"}], \"scattergeo\": [{\"marker\": {\"colorbar\": {\"outlinewidth\": 0, \"ticks\": \"\"}}, \"type\": \"scattergeo\"}], \"scattergl\": [{\"marker\": {\"colorbar\": {\"outlinewidth\": 0, \"ticks\": \"\"}}, \"type\": \"scattergl\"}], \"scattermapbox\": [{\"marker\": {\"colorbar\": {\"outlinewidth\": 0, \"ticks\": \"\"}}, \"type\": \"scattermapbox\"}], \"scatterpolar\": [{\"marker\": {\"colorbar\": {\"outlinewidth\": 0, \"ticks\": \"\"}}, \"type\": \"scatterpolar\"}], \"scatterpolargl\": [{\"marker\": {\"colorbar\": {\"outlinewidth\": 0, \"ticks\": \"\"}}, \"type\": \"scatterpolargl\"}], \"scatterternary\": [{\"marker\": {\"colorbar\": {\"outlinewidth\": 0, \"ticks\": \"\"}}, \"type\": \"scatterternary\"}], \"surface\": [{\"colorbar\": {\"outlinewidth\": 0, \"ticks\": \"\"}, \"colorscale\": [[0.0, \"#0d0887\"], [0.1111111111111111, \"#46039f\"], [0.2222222222222222, \"#7201a8\"], [0.3333333333333333, \"#9c179e\"], [0.4444444444444444, \"#bd3786\"], [0.5555555555555556, \"#d8576b\"], [0.6666666666666666, \"#ed7953\"], [0.7777777777777778, \"#fb9f3a\"], [0.8888888888888888, \"#fdca26\"], [1.0, \"#f0f921\"]], \"type\": \"surface\"}], \"table\": [{\"cells\": {\"fill\": {\"color\": \"#EBF0F8\"}, \"line\": {\"color\": \"white\"}}, \"header\": {\"fill\": {\"color\": \"#C8D4E3\"}, \"line\": {\"color\": \"white\"}}, \"type\": \"table\"}]}, \"layout\": {\"annotationdefaults\": {\"arrowcolor\": \"#2a3f5f\", \"arrowhead\": 0, \"arrowwidth\": 1}, \"colorscale\": {\"diverging\": [[0, \"#8e0152\"], [0.1, \"#c51b7d\"], [0.2, \"#de77ae\"], [0.3, \"#f1b6da\"], [0.4, \"#fde0ef\"], [0.5, \"#f7f7f7\"], [0.6, \"#e6f5d0\"], [0.7, \"#b8e186\"], [0.8, \"#7fbc41\"], [0.9, \"#4d9221\"], [1, \"#276419\"]], \"sequential\": [[0.0, \"#0d0887\"], [0.1111111111111111, \"#46039f\"], [0.2222222222222222, \"#7201a8\"], [0.3333333333333333, \"#9c179e\"], [0.4444444444444444, \"#bd3786\"], [0.5555555555555556, \"#d8576b\"], [0.6666666666666666, \"#ed7953\"], [0.7777777777777778, \"#fb9f3a\"], [0.8888888888888888, \"#fdca26\"], [1.0, \"#f0f921\"]], \"sequentialminus\": [[0.0, \"#0d0887\"], [0.1111111111111111, \"#46039f\"], [0.2222222222222222, \"#7201a8\"], [0.3333333333333333, \"#9c179e\"], [0.4444444444444444, \"#bd3786\"], [0.5555555555555556, \"#d8576b\"], [0.6666666666666666, \"#ed7953\"], [0.7777777777777778, \"#fb9f3a\"], [0.8888888888888888, \"#fdca26\"], [1.0, \"#f0f921\"]]}, \"colorway\": [\"#636efa\", \"#EF553B\", \"#00cc96\", \"#ab63fa\", \"#FFA15A\", \"#19d3f3\", \"#FF6692\", \"#B6E880\", \"#FF97FF\", \"#FECB52\"], \"font\": {\"color\": \"#2a3f5f\"}, \"geo\": {\"bgcolor\": \"white\", \"lakecolor\": \"white\", \"landcolor\": \"#E5ECF6\", \"showlakes\": true, \"showland\": true, \"subunitcolor\": \"white\"}, \"hoverlabel\": {\"align\": \"left\"}, \"hovermode\": \"closest\", \"mapbox\": {\"style\": \"light\"}, \"paper_bgcolor\": \"white\", \"plot_bgcolor\": \"#E5ECF6\", \"polar\": {\"angularaxis\": {\"gridcolor\": \"white\", \"linecolor\": \"white\", \"ticks\": \"\"}, \"bgcolor\": \"#E5ECF6\", \"radialaxis\": {\"gridcolor\": \"white\", \"linecolor\": \"white\", \"ticks\": \"\"}}, \"scene\": {\"xaxis\": {\"backgroundcolor\": \"#E5ECF6\", \"gridcolor\": \"white\", \"gridwidth\": 2, \"linecolor\": \"white\", \"showbackground\": true, \"ticks\": \"\", \"zerolinecolor\": \"white\"}, \"yaxis\": {\"backgroundcolor\": \"#E5ECF6\", \"gridcolor\": \"white\", \"gridwidth\": 2, \"linecolor\": \"white\", \"showbackground\": true, \"ticks\": \"\", \"zerolinecolor\": \"white\"}, \"zaxis\": {\"backgroundcolor\": \"#E5ECF6\", \"gridcolor\": \"white\", \"gridwidth\": 2, \"linecolor\": \"white\", \"showbackground\": true, \"ticks\": \"\", \"zerolinecolor\": \"white\"}}, \"shapedefaults\": {\"line\": {\"color\": \"#2a3f5f\"}}, \"ternary\": {\"aaxis\": {\"gridcolor\": \"white\", \"linecolor\": \"white\", \"ticks\": \"\"}, \"baxis\": {\"gridcolor\": \"white\", \"linecolor\": \"white\", \"ticks\": \"\"}, \"bgcolor\": \"#E5ECF6\", \"caxis\": {\"gridcolor\": \"white\", \"linecolor\": \"white\", \"ticks\": \"\"}}, \"title\": {\"x\": 0.05}, \"xaxis\": {\"automargin\": true, \"gridcolor\": \"white\", \"linecolor\": \"white\", \"ticks\": \"\", \"zerolinecolor\": \"white\", \"zerolinewidth\": 2}, \"yaxis\": {\"automargin\": true, \"gridcolor\": \"white\", \"linecolor\": \"white\", \"ticks\": \"\", \"zerolinecolor\": \"white\", \"zerolinewidth\": 2}}}, \"title\": {\"text\": \"Model performance\"}, \"width\": 800, \"xaxis\": {\"anchor\": \"y\", \"domain\": [0.0, 0.45]}, \"xaxis2\": {\"anchor\": \"y2\", \"domain\": [0.55, 1.0], \"title\": {\"text\": \"false positive rate\"}}, \"xaxis3\": {\"anchor\": \"y3\", \"domain\": [0.0, 1.0], \"showgrid\": true, \"tickangle\": 90, \"tickfont\": {\"size\": 10}}, \"yaxis\": {\"anchor\": \"x\", \"domain\": [0.625, 1.0]}, \"yaxis2\": {\"anchor\": \"x2\", \"domain\": [0.625, 1.0], \"title\": {\"text\": \"true positive rate\"}}, \"yaxis3\": {\"anchor\": \"x3\", \"domain\": [0.0, 0.375]}},\n",
       "                        {\"responsive\": true}\n",
       "                    ).then(function(){\n",
       "                            \n",
       "var gd = document.getElementById('8c592828-a1ba-4cd3-9057-b7ccce812c23');\n",
       "var x = new MutationObserver(function (mutations, observer) {{\n",
       "        var display = window.getComputedStyle(gd).display;\n",
       "        if (!display || display === 'none') {{\n",
       "            console.log([gd, 'removed!']);\n",
       "            Plotly.purge(gd);\n",
       "            observer.disconnect();\n",
       "        }}\n",
       "}});\n",
       "\n",
       "// Listen for the removal of the full notebook cells\n",
       "var notebookContainer = gd.closest('#notebook-container');\n",
       "if (notebookContainer) {{\n",
       "    x.observe(notebookContainer, {childList: true});\n",
       "}}\n",
       "\n",
       "// Listen for the clearing of the current output cell\n",
       "var outputEl = gd.closest('.output');\n",
       "if (outputEl) {{\n",
       "    x.observe(outputEl, {childList: true});\n",
       "}}\n",
       "\n",
       "                        })\n",
       "                };\n",
       "                });\n",
       "            </script>\n",
       "        </div>"
      ]
     },
     "metadata": {},
     "output_type": "display_data"
    },
    {
     "name": "stdout",
     "output_type": "stream",
     "text": [
      "[LibLinear][LibLinear][LibLinear][LibLinear][LibLinear][LibLinear][LibLinear][LibLinear][LibLinear][LibLinear][LibLinear][LibLinear][LibLinear][LibLinear][LibLinear][LibLinear][LibLinear][LibLinear][LibLinear][LibLinear][LibLinear][LibLinear][LibLinear][LibLinear][LibLinear][LibLinear][LibLinear][LibLinear][LibLinear][LibLinear][LibLinear][LibLinear][LibLinear][LibLinear][LibLinear][LibLinear][LibLinear][LibLinear][LibLinear][LibLinear][LibLinear][LibLinear][LibLinear][LibLinear][LibLinear][LibLinear][LibLinear][LibLinear][LibLinear][LibLinear]"
     ]
    },
    {
     "data": {
      "image/png": "[encoded data removed]",
      "text/plain": [
       "<Figure size 576x396 with 1 Axes>"
      ]
     },
     "metadata": {},
     "output_type": "display_data"
    }
   ],
   "source": [
    "logit_preds = earthquake_prediction(logit, train_X, test_X, train_Y, test_Y,cols, \"coefficients\", threshold_plot=True)"
   ]
  },
  {
   "cell_type": "code",
   "execution_count": 48,
   "metadata": {},
   "outputs": [],
   "source": [
    "smote_X=scaled.loc[:,scaled.columns !='target_id']\n",
    "smote_Y=scaled.loc[:,scaled.columns=='target_id']\n",
    "cols = [col for col in train.columns if col not in ['target_id']]\n",
    "from imblearn.over_sampling import SMOTE\n",
    "\n",
    "os=SMOTE(random_state=0)\n",
    "X_train,X_test,y_train,y_test=train_test_split(smote_X,smote_Y,test_size=0.2,random_state=0)\n",
    "columns=X_train.columns\n",
    "\n",
    "\n",
    "os_df1_X,os_df1_y=os.fit_sample(X_train,y_train)\n",
    "os_df1_X=pd.DataFrame(data=os_df1_X,columns=cols)\n",
    "os_df1_y=pd.DataFrame(data=os_df1_y,columns=['target_id'])"
   ]
  },
  {
   "cell_type": "code",
   "execution_count": 49,
   "metadata": {},
   "outputs": [],
   "source": [
    "from imblearn.over_sampling import SMOTE\n",
    "os_df1_X,os_df1_y= os.fit_sample(train[cols], train['target_id'])\n",
    "train_osx = pd.DataFrame(data=os_df1_X, columns=cols)\n",
    "train_osy = pd.DataFrame(data=os_df1_y, columns=target_col)"
   ]
  },
  {
   "cell_type": "code",
   "execution_count": 50,
   "metadata": {},
   "outputs": [],
   "source": [
    "#smote without train test split on scaled data\n",
    "from imblearn.over_sampling import SMOTE\n",
    "train_os_x, train_os_y = os.fit_sample(scaled[cols], scaled['target_id'])\n",
    "train_osx_scaled = pd.DataFrame(data=train_os_x, columns=cols)\n",
    "train_osy_scaled = pd.DataFrame(data=train_os_y, columns=target_col)"
   ]
  },
  {
   "cell_type": "code",
   "execution_count": 54,
   "metadata": {},
   "outputs": [],
   "source": [
    "def telecom_churn_prediction_alg(algorithm,training_x,testing_x,\n",
    "                                 training_y,testing_y,threshold_plot = True) :\n",
    "    \n",
    "    #model\n",
    "    algorithm.fit(training_x,training_y)\n",
    "    predictions   = algorithm.predict(testing_x)\n",
    "    probabilities = algorithm.predict_proba(testing_x)\n",
    "    \n",
    "    print (algorithm)\n",
    "    print (\"\\n Classification report : \\n\",classification_report(testing_y,predictions))\n",
    "    print (\"Accuracy Score   : \",accuracy_score(testing_y,predictions))\n",
    "    #confusion matrix\n",
    "    conf_matrix = confusion_matrix(testing_y,predictions)\n",
    "    #roc_auc_score\n",
    "    model_roc_auc = roc_auc_score(testing_y,predictions) \n",
    "    print (\"Area under curve : \",model_roc_auc)\n",
    "    fpr,tpr,thresholds = roc_curve(testing_y,probabilities[:,1])\n",
    "     \n",
    "    #plot roc curve\n",
    "    trace1 = go.Scatter(x = fpr,y = tpr,\n",
    "                        name = \"Roc : \" + str(model_roc_auc),\n",
    "                        line = dict(color = ('rgb(22, 96, 167)'),width = 2),\n",
    "                       )\n",
    "    trace2 = go.Scatter(x = [0,1],y=[0,1],\n",
    "                        line = dict(color = ('rgb(205, 12, 24)'),width = 2,\n",
    "                        dash = 'dot'))\n",
    "    \n",
    "    #plot confusion matrix\n",
    "    trace3 = go.Heatmap(z = conf_matrix ,x = [\"Not churn\",\"Churn\"],\n",
    "                        y = [\"Not churn\",\"Churn\"],\n",
    "                        showscale  = False,colorscale = \"Blues\",name = \"matrix\",\n",
    "                        xaxis = \"x2\",yaxis = \"y2\"\n",
    "                       )\n",
    "    \n",
    "    layout = go.Layout(dict(title=\"Model performance\" ,\n",
    "                            autosize = False,height = 500,width = 800,\n",
    "                            showlegend = False,\n",
    "                            plot_bgcolor  = \"rgb(243,243,243)\",\n",
    "                            paper_bgcolor = \"rgb(243,243,243)\",\n",
    "                            xaxis = dict(title = \"false positive rate\",\n",
    "                                         gridcolor = 'rgb(255, 255, 255)',\n",
    "                                         domain=[0, 0.6],\n",
    "                                         ticklen=5,gridwidth=2),\n",
    "                            yaxis = dict(title = \"true positive rate\",\n",
    "                                         gridcolor = 'rgb(255, 255, 255)',\n",
    "                                         zerolinewidth=1,\n",
    "                                         ticklen=5,gridwidth=2),\n",
    "                            margin = dict(b=200),\n",
    "                            xaxis2=dict(domain=[0.7, 1],tickangle = 90,\n",
    "                                        gridcolor = 'rgb(255, 255, 255)'),\n",
    "                            yaxis2=dict(anchor='x2',gridcolor = 'rgb(255, 255, 255)')\n",
    "                           )\n",
    "                  )\n",
    "    data = [trace1,trace2,trace3]\n",
    "    fig = go.Figure(data=data,layout=layout)\n",
    "    \n",
    "    py.iplot(fig)\n",
    "    \n",
    "    if threshold_plot == True : \n",
    "        visualizer = DiscriminationThreshold(algorithm)\n",
    "        visualizer.fit(training_x,training_y)\n",
    "        visualizer.poof()\n",
    "    return algorithm.predict(test_X)"
   ]
  },
  {
   "cell_type": "code",
   "execution_count": 55,
   "metadata": {},
   "outputs": [],
   "source": [
    "from sklearn.neighbors import KNeighborsClassifier\n",
    "knn = KNeighborsClassifier(algorithm='auto', leaf_size=30, metric='minkowski', metric_params=None,\n",
    "                          n_jobs=-1, n_neighbors=5, p=2, weights='uniform')"
   ]
  },
  {
   "cell_type": "code",
   "execution_count": 58,
   "metadata": {},
   "outputs": [
    {
     "name": "stdout",
     "output_type": "stream",
     "text": [
      "KNeighborsClassifier(algorithm='auto', leaf_size=30, metric='minkowski',\n",
      "                     metric_params=None, n_jobs=-1, n_neighbors=5, p=2,\n",
      "                     weights='uniform')\n",
      "\n",
      " Classification report : \n",
      "               precision    recall  f1-score   support\n",
      "\n",
      "         0.0       1.00      0.68      0.81        25\n",
      "         1.0       0.20      1.00      0.33         2\n",
      "\n",
      "    accuracy                           0.70        27\n",
      "   macro avg       0.60      0.84      0.57        27\n",
      "weighted avg       0.94      0.70      0.77        27\n",
      "\n",
      "Accuracy Score   :  0.7037037037037037\n",
      "Area under curve :  0.84\n"
     ]
    },
    {
     "data": {
      "application/vnd.plotly.v1+json": {
       "config": {
        "linkText": "Export to plot.ly",
        "plotlyServerURL": "https://plot.ly",
        "showLink": false
       },
       "data": [
        {
         "line": {
          "color": "rgb(22, 96, 167)",
          "width": 2
         },
         "name": "Roc : 0.84",
         "type": "scatter",
         "x": [
          0,
          0.08,
          0.2,
          0.32,
          0.48,
          0.6,
          1
         ],
         "y": [
          0,
          0.5,
          1,
          1,
          1,
          1,
          1
         ]
        },
        {
         "line": {
          "color": "rgb(205, 12, 24)",
          "dash": "dot",
          "width": 2
         },
         "type": "scatter",
         "x": [
          0,
          1
         ],
         "y": [
          0,
          1
         ]
        },
        {
         "colorscale": [
          [
           0,
           "rgb(247,251,255)"
          ],
          [
           0.125,
           "rgb(222,235,247)"
          ],
          [
           0.25,
           "rgb(198,219,239)"
          ],
          [
           0.375,
           "rgb(158,202,225)"
          ],
          [
           0.5,
           "rgb(107,174,214)"
          ],
          [
           0.625,
           "rgb(66,146,198)"
          ],
          [
           0.75,
           "rgb(33,113,181)"
          ],
          [
           0.875,
           "rgb(8,81,156)"
          ],
          [
           1,
           "rgb(8,48,107)"
          ]
         ],
         "name": "matrix",
         "showscale": false,
         "type": "heatmap",
         "x": [
          "Not churn",
          "Churn"
         ],
         "xaxis": "x2",
         "y": [
          "Not churn",
          "Churn"
         ],
         "yaxis": "y2",
         "z": [
          [
           17,
           8
          ],
          [
           0,
           2
          ]
         ]
        }
       ],
       "layout": {
        "autosize": false,
        "height": 500,
        "margin": {
         "b": 200
        },
        "paper_bgcolor": "rgb(243,243,243)",
        "plot_bgcolor": "rgb(243,243,243)",
        "showlegend": false,
        "template": {
         "data": {
          "bar": [
           {
            "error_x": {
             "color": "#2a3f5f"
            },
            "error_y": {
             "color": "#2a3f5f"
            },
            "marker": {
             "line": {
              "color": "#E5ECF6",
              "width": 0.5
             }
            },
            "type": "bar"
           }
          ],
          "barpolar": [
           {
            "marker": {
             "line": {
              "color": "#E5ECF6",
              "width": 0.5
             }
            },
            "type": "barpolar"
           }
          ],
          "carpet": [
           {
            "aaxis": {
             "endlinecolor": "#2a3f5f",
             "gridcolor": "white",
             "linecolor": "white",
             "minorgridcolor": "white",
             "startlinecolor": "#2a3f5f"
            },
            "baxis": {
             "endlinecolor": "#2a3f5f",
             "gridcolor": "white",
             "linecolor": "white",
             "minorgridcolor": "white",
             "startlinecolor": "#2a3f5f"
            },
            "type": "carpet"
           }
          ],
          "choropleth": [
           {
            "colorbar": {
             "outlinewidth": 0,
             "ticks": ""
            },
            "type": "choropleth"
           }
          ],
          "contour": [
           {
            "colorbar": {
             "outlinewidth": 0,
             "ticks": ""
            },
            "colorscale": [
             [
              0,
              "#0d0887"
             ],
             [
              0.1111111111111111,
              "#46039f"
             ],
             [
              0.2222222222222222,
              "#7201a8"
             ],
             [
              0.3333333333333333,
              "#9c179e"
             ],
             [
              0.4444444444444444,
              "#bd3786"
             ],
             [
              0.5555555555555556,
              "#d8576b"
             ],
             [
              0.6666666666666666,
              "#ed7953"
             ],
             [
              0.7777777777777778,
              "#fb9f3a"
             ],
             [
              0.8888888888888888,
              "#fdca26"
             ],
             [
              1,
              "#f0f921"
             ]
            ],
            "type": "contour"
           }
          ],
          "contourcarpet": [
           {
            "colorbar": {
             "outlinewidth": 0,
             "ticks": ""
            },
            "type": "contourcarpet"
           }
          ],
          "heatmap": [
           {
            "colorbar": {
             "outlinewidth": 0,
             "ticks": ""
            },
            "colorscale": [
             [
              0,
              "#0d0887"
             ],
             [
              0.1111111111111111,
              "#46039f"
             ],
             [
              0.2222222222222222,
              "#7201a8"
             ],
             [
              0.3333333333333333,
              "#9c179e"
             ],
             [
              0.4444444444444444,
              "#bd3786"
             ],
             [
              0.5555555555555556,
              "#d8576b"
             ],
             [
              0.6666666666666666,
              "#ed7953"
             ],
             [
              0.7777777777777778,
              "#fb9f3a"
             ],
             [
              0.8888888888888888,
              "#fdca26"
             ],
             [
              1,
              "#f0f921"
             ]
            ],
            "type": "heatmap"
           }
          ],
          "heatmapgl": [
           {
            "colorbar": {
             "outlinewidth": 0,
             "ticks": ""
            },
            "colorscale": [
             [
              0,
              "#0d0887"
             ],
             [
              0.1111111111111111,
              "#46039f"
             ],
             [
              0.2222222222222222,
              "#7201a8"
             ],
             [
              0.3333333333333333,
              "#9c179e"
             ],
             [
              0.4444444444444444,
              "#bd3786"
             ],
             [
              0.5555555555555556,
              "#d8576b"
             ],
             [
              0.6666666666666666,
              "#ed7953"
             ],
             [
              0.7777777777777778,
              "#fb9f3a"
             ],
             [
              0.8888888888888888,
              "#fdca26"
             ],
             [
              1,
              "#f0f921"
             ]
            ],
            "type": "heatmapgl"
           }
          ],
          "histogram": [
           {
            "marker": {
             "colorbar": {
              "outlinewidth": 0,
              "ticks": ""
             }
            },
            "type": "histogram"
           }
          ],
          "histogram2d": [
           {
            "colorbar": {
             "outlinewidth": 0,
             "ticks": ""
            },
            "colorscale": [
             [
              0,
              "#0d0887"
             ],
             [
              0.1111111111111111,
              "#46039f"
             ],
             [
              0.2222222222222222,
              "#7201a8"
             ],
             [
              0.3333333333333333,
              "#9c179e"
             ],
             [
              0.4444444444444444,
              "#bd3786"
             ],
             [
              0.5555555555555556,
              "#d8576b"
             ],
             [
              0.6666666666666666,
              "#ed7953"
             ],
             [
              0.7777777777777778,
              "#fb9f3a"
             ],
             [
              0.8888888888888888,
              "#fdca26"
             ],
             [
              1,
              "#f0f921"
             ]
            ],
            "type": "histogram2d"
           }
          ],
          "histogram2dcontour": [
           {
            "colorbar": {
             "outlinewidth": 0,
             "ticks": ""
            },
            "colorscale": [
             [
              0,
              "#0d0887"
             ],
             [
              0.1111111111111111,
              "#46039f"
             ],
             [
              0.2222222222222222,
              "#7201a8"
             ],
             [
              0.3333333333333333,
              "#9c179e"
             ],
             [
              0.4444444444444444,
              "#bd3786"
             ],
             [
              0.5555555555555556,
              "#d8576b"
             ],
             [
              0.6666666666666666,
              "#ed7953"
             ],
             [
              0.7777777777777778,
              "#fb9f3a"
             ],
             [
              0.8888888888888888,
              "#fdca26"
             ],
             [
              1,
              "#f0f921"
             ]
            ],
            "type": "histogram2dcontour"
           }
          ],
          "mesh3d": [
           {
            "colorbar": {
             "outlinewidth": 0,
             "ticks": ""
            },
            "type": "mesh3d"
           }
          ],
          "parcoords": [
           {
            "line": {
             "colorbar": {
              "outlinewidth": 0,
              "ticks": ""
             }
            },
            "type": "parcoords"
           }
          ],
          "scatter": [
           {
            "marker": {
             "colorbar": {
              "outlinewidth": 0,
              "ticks": ""
             }
            },
            "type": "scatter"
           }
          ],
          "scatter3d": [
           {
            "line": {
             "colorbar": {
              "outlinewidth": 0,
              "ticks": ""
             }
            },
            "marker": {
             "colorbar": {
              "outlinewidth": 0,
              "ticks": ""
             }
            },
            "type": "scatter3d"
           }
          ],
          "scattercarpet": [
           {
            "marker": {
             "colorbar": {
              "outlinewidth": 0,
              "ticks": ""
             }
            },
            "type": "scattercarpet"
           }
          ],
          "scattergeo": [
           {
            "marker": {
             "colorbar": {
              "outlinewidth": 0,
              "ticks": ""
             }
            },
            "type": "scattergeo"
           }
          ],
          "scattergl": [
           {
            "marker": {
             "colorbar": {
              "outlinewidth": 0,
              "ticks": ""
             }
            },
            "type": "scattergl"
           }
          ],
          "scattermapbox": [
           {
            "marker": {
             "colorbar": {
              "outlinewidth": 0,
              "ticks": ""
             }
            },
            "type": "scattermapbox"
           }
          ],
          "scatterpolar": [
           {
            "marker": {
             "colorbar": {
              "outlinewidth": 0,
              "ticks": ""
             }
            },
            "type": "scatterpolar"
           }
          ],
          "scatterpolargl": [
           {
            "marker": {
             "colorbar": {
              "outlinewidth": 0,
              "ticks": ""
             }
            },
            "type": "scatterpolargl"
           }
          ],
          "scatterternary": [
           {
            "marker": {
             "colorbar": {
              "outlinewidth": 0,
              "ticks": ""
             }
            },
            "type": "scatterternary"
           }
          ],
          "surface": [
           {
            "colorbar": {
             "outlinewidth": 0,
             "ticks": ""
            },
            "colorscale": [
             [
              0,
              "#0d0887"
             ],
             [
              0.1111111111111111,
              "#46039f"
             ],
             [
              0.2222222222222222,
              "#7201a8"
             ],
             [
              0.3333333333333333,
              "#9c179e"
             ],
             [
              0.4444444444444444,
              "#bd3786"
             ],
             [
              0.5555555555555556,
              "#d8576b"
             ],
             [
              0.6666666666666666,
              "#ed7953"
             ],
             [
              0.7777777777777778,
              "#fb9f3a"
             ],
             [
              0.8888888888888888,
              "#fdca26"
             ],
             [
              1,
              "#f0f921"
             ]
            ],
            "type": "surface"
           }
          ],
          "table": [
           {
            "cells": {
             "fill": {
              "color": "#EBF0F8"
             },
             "line": {
              "color": "white"
             }
            },
            "header": {
             "fill": {
              "color": "#C8D4E3"
             },
             "line": {
              "color": "white"
             }
            },
            "type": "table"
           }
          ]
         },
         "layout": {
          "annotationdefaults": {
           "arrowcolor": "#2a3f5f",
           "arrowhead": 0,
           "arrowwidth": 1
          },
          "colorscale": {
           "diverging": [
            [
             0,
             "#8e0152"
            ],
            [
             0.1,
             "#c51b7d"
            ],
            [
             0.2,
             "#de77ae"
            ],
            [
             0.3,
             "#f1b6da"
            ],
            [
             0.4,
             "#fde0ef"
            ],
            [
             0.5,
             "#f7f7f7"
            ],
            [
             0.6,
             "#e6f5d0"
            ],
            [
             0.7,
             "#b8e186"
            ],
            [
             0.8,
             "#7fbc41"
            ],
            [
             0.9,
             "#4d9221"
            ],
            [
             1,
             "#276419"
            ]
           ],
           "sequential": [
            [
             0,
             "#0d0887"
            ],
            [
             0.1111111111111111,
             "#46039f"
            ],
            [
             0.2222222222222222,
             "#7201a8"
            ],
            [
             0.3333333333333333,
             "#9c179e"
            ],
            [
             0.4444444444444444,
             "#bd3786"
            ],
            [
             0.5555555555555556,
             "#d8576b"
            ],
            [
             0.6666666666666666,
             "#ed7953"
            ],
            [
             0.7777777777777778,
             "#fb9f3a"
            ],
            [
             0.8888888888888888,
             "#fdca26"
            ],
            [
             1,
             "#f0f921"
            ]
           ],
           "sequentialminus": [
            [
             0,
             "#0d0887"
            ],
            [
             0.1111111111111111,
             "#46039f"
            ],
            [
             0.2222222222222222,
             "#7201a8"
            ],
            [
             0.3333333333333333,
             "#9c179e"
            ],
            [
             0.4444444444444444,
             "#bd3786"
            ],
            [
             0.5555555555555556,
             "#d8576b"
            ],
            [
             0.6666666666666666,
             "#ed7953"
            ],
            [
             0.7777777777777778,
             "#fb9f3a"
            ],
            [
             0.8888888888888888,
             "#fdca26"
            ],
            [
             1,
             "#f0f921"
            ]
           ]
          },
          "colorway": [
           "#636efa",
           "#EF553B",
           "#00cc96",
           "#ab63fa",
           "#FFA15A",
           "#19d3f3",
           "#FF6692",
           "#B6E880",
           "#FF97FF",
           "#FECB52"
          ],
          "font": {
           "color": "#2a3f5f"
          },
          "geo": {
           "bgcolor": "white",
           "lakecolor": "white",
           "landcolor": "#E5ECF6",
           "showlakes": true,
           "showland": true,
           "subunitcolor": "white"
          },
          "hoverlabel": {
           "align": "left"
          },
          "hovermode": "closest",
          "mapbox": {
           "style": "light"
          },
          "paper_bgcolor": "white",
          "plot_bgcolor": "#E5ECF6",
          "polar": {
           "angularaxis": {
            "gridcolor": "white",
            "linecolor": "white",
            "ticks": ""
           },
           "bgcolor": "#E5ECF6",
           "radialaxis": {
            "gridcolor": "white",
            "linecolor": "white",
            "ticks": ""
           }
          },
          "scene": {
           "xaxis": {
            "backgroundcolor": "#E5ECF6",
            "gridcolor": "white",
            "gridwidth": 2,
            "linecolor": "white",
            "showbackground": true,
            "ticks": "",
            "zerolinecolor": "white"
           },
           "yaxis": {
            "backgroundcolor": "#E5ECF6",
            "gridcolor": "white",
            "gridwidth": 2,
            "linecolor": "white",
            "showbackground": true,
            "ticks": "",
            "zerolinecolor": "white"
           },
           "zaxis": {
            "backgroundcolor": "#E5ECF6",
            "gridcolor": "white",
            "gridwidth": 2,
            "linecolor": "white",
            "showbackground": true,
            "ticks": "",
            "zerolinecolor": "white"
           }
          },
          "shapedefaults": {
           "line": {
            "color": "#2a3f5f"
           }
          },
          "ternary": {
           "aaxis": {
            "gridcolor": "white",
            "linecolor": "white",
            "ticks": ""
           },
           "baxis": {
            "gridcolor": "white",
            "linecolor": "white",
            "ticks": ""
           },
           "bgcolor": "#E5ECF6",
           "caxis": {
            "gridcolor": "white",
            "linecolor": "white",
            "ticks": ""
           }
          },
          "title": {
           "x": 0.05
          },
          "xaxis": {
           "automargin": true,
           "gridcolor": "white",
           "linecolor": "white",
           "ticks": "",
           "zerolinecolor": "white",
           "zerolinewidth": 2
          },
          "yaxis": {
           "automargin": true,
           "gridcolor": "white",
           "linecolor": "white",
           "ticks": "",
           "zerolinecolor": "white",
           "zerolinewidth": 2
          }
         }
        },
        "title": {
         "text": "Model performance"
        },
        "width": 800,
        "xaxis": {
         "domain": [
          0,
          0.6
         ],
         "gridcolor": "rgb(255, 255, 255)",
         "gridwidth": 2,
         "ticklen": 5,
         "title": {
          "text": "false positive rate"
         }
        },
        "xaxis2": {
         "domain": [
          0.7,
          1
         ],
         "gridcolor": "rgb(255, 255, 255)",
         "tickangle": 90
        },
        "yaxis": {
         "gridcolor": "rgb(255, 255, 255)",
         "gridwidth": 2,
         "ticklen": 5,
         "title": {
          "text": "true positive rate"
         },
         "zerolinewidth": 1
        },
        "yaxis2": {
         "anchor": "x2",
         "gridcolor": "rgb(255, 255, 255)"
        }
       }
      },
      "text/html": [
       "<div>\n",
       "        \n",
       "        \n",
       "            <div id=\"eaac2bac-adb3-42e0-b372-32f5fcd3c188\" class=\"plotly-graph-div\" style=\"height:500px; width:800px;\"></div>\n",
       "            <script type=\"text/javascript\">\n",
       "                require([\"plotly\"], function(Plotly) {\n",
       "                    window.PLOTLYENV=window.PLOTLYENV || {};\n",
       "                    \n",
       "                if (document.getElementById(\"eaac2bac-adb3-42e0-b372-32f5fcd3c188\")) {\n",
       "                    Plotly.newPlot(\n",
       "                        'eaac2bac-adb3-42e0-b372-32f5fcd3c188',\n",
       "                        [{\"line\": {\"color\": \"rgb(22, 96, 167)\", \"width\": 2}, \"name\": \"Roc : 0.84\", \"type\": \"scatter\", \"x\": [0.0, 0.08, 0.2, 0.32, 0.48, 0.6, 1.0], \"y\": [0.0, 0.5, 1.0, 1.0, 1.0, 1.0, 1.0]}, {\"line\": {\"color\": \"rgb(205, 12, 24)\", \"dash\": \"dot\", \"width\": 2}, \"type\": \"scatter\", \"x\": [0, 1], \"y\": [0, 1]}, {\"colorscale\": [[0.0, \"rgb(247,251,255)\"], [0.125, \"rgb(222,235,247)\"], [0.25, \"rgb(198,219,239)\"], [0.375, \"rgb(158,202,225)\"], [0.5, \"rgb(107,174,214)\"], [0.625, \"rgb(66,146,198)\"], [0.75, \"rgb(33,113,181)\"], [0.875, \"rgb(8,81,156)\"], [1.0, \"rgb(8,48,107)\"]], \"name\": \"matrix\", \"showscale\": false, \"type\": \"heatmap\", \"x\": [\"Not churn\", \"Churn\"], \"xaxis\": \"x2\", \"y\": [\"Not churn\", \"Churn\"], \"yaxis\": \"y2\", \"z\": [[17, 8], [0, 2]]}],\n",
       "                        {\"autosize\": false, \"height\": 500, \"margin\": {\"b\": 200}, \"paper_bgcolor\": \"rgb(243,243,243)\", \"plot_bgcolor\": \"rgb(243,243,243)\", \"showlegend\": false, \"template\": {\"data\": {\"bar\": [{\"error_x\": {\"color\": \"#2a3f5f\"}, \"error_y\": {\"color\": \"#2a3f5f\"}, \"marker\": {\"line\": {\"color\": \"#E5ECF6\", \"width\": 0.5}}, \"type\": \"bar\"}], \"barpolar\": [{\"marker\": {\"line\": {\"color\": \"#E5ECF6\", \"width\": 0.5}}, \"type\": \"barpolar\"}], \"carpet\": [{\"aaxis\": {\"endlinecolor\": \"#2a3f5f\", \"gridcolor\": \"white\", \"linecolor\": \"white\", \"minorgridcolor\": \"white\", \"startlinecolor\": \"#2a3f5f\"}, \"baxis\": {\"endlinecolor\": \"#2a3f5f\", \"gridcolor\": \"white\", \"linecolor\": \"white\", \"minorgridcolor\": \"white\", \"startlinecolor\": \"#2a3f5f\"}, \"type\": \"carpet\"}], \"choropleth\": [{\"colorbar\": {\"outlinewidth\": 0, \"ticks\": \"\"}, \"type\": \"choropleth\"}], \"contour\": [{\"colorbar\": {\"outlinewidth\": 0, \"ticks\": \"\"}, \"colorscale\": [[0.0, \"#0d0887\"], [0.1111111111111111, \"#46039f\"], [0.2222222222222222, \"#7201a8\"], [0.3333333333333333, \"#9c179e\"], [0.4444444444444444, \"#bd3786\"], [0.5555555555555556, \"#d8576b\"], [0.6666666666666666, \"#ed7953\"], [0.7777777777777778, \"#fb9f3a\"], [0.8888888888888888, \"#fdca26\"], [1.0, \"#f0f921\"]], \"type\": \"contour\"}], \"contourcarpet\": [{\"colorbar\": {\"outlinewidth\": 0, \"ticks\": \"\"}, \"type\": \"contourcarpet\"}], \"heatmap\": [{\"colorbar\": {\"outlinewidth\": 0, \"ticks\": \"\"}, \"colorscale\": [[0.0, \"#0d0887\"], [0.1111111111111111, \"#46039f\"], [0.2222222222222222, \"#7201a8\"], [0.3333333333333333, \"#9c179e\"], [0.4444444444444444, \"#bd3786\"], [0.5555555555555556, \"#d8576b\"], [0.6666666666666666, \"#ed7953\"], [0.7777777777777778, \"#fb9f3a\"], [0.8888888888888888, \"#fdca26\"], [1.0, \"#f0f921\"]], \"type\": \"heatmap\"}], \"heatmapgl\": [{\"colorbar\": {\"outlinewidth\": 0, \"ticks\": \"\"}, \"colorscale\": [[0.0, \"#0d0887\"], [0.1111111111111111, \"#46039f\"], [0.2222222222222222, \"#7201a8\"], [0.3333333333333333, \"#9c179e\"], [0.4444444444444444, \"#bd3786\"], [0.5555555555555556, \"#d8576b\"], [0.6666666666666666, \"#ed7953\"], [0.7777777777777778, \"#fb9f3a\"], [0.8888888888888888, \"#fdca26\"], [1.0, \"#f0f921\"]], \"type\": \"heatmapgl\"}], \"histogram\": [{\"marker\": {\"colorbar\": {\"outlinewidth\": 0, \"ticks\": \"\"}}, \"type\": \"histogram\"}], \"histogram2d\": [{\"colorbar\": {\"outlinewidth\": 0, \"ticks\": \"\"}, \"colorscale\": [[0.0, \"#0d0887\"], [0.1111111111111111, \"#46039f\"], [0.2222222222222222, \"#7201a8\"], [0.3333333333333333, \"#9c179e\"], [0.4444444444444444, \"#bd3786\"], [0.5555555555555556, \"#d8576b\"], [0.6666666666666666, \"#ed7953\"], [0.7777777777777778, \"#fb9f3a\"], [0.8888888888888888, \"#fdca26\"], [1.0, \"#f0f921\"]], \"type\": \"histogram2d\"}], \"histogram2dcontour\": [{\"colorbar\": {\"outlinewidth\": 0, \"ticks\": \"\"}, \"colorscale\": [[0.0, \"#0d0887\"], [0.1111111111111111, \"#46039f\"], [0.2222222222222222, \"#7201a8\"], [0.3333333333333333, \"#9c179e\"], [0.4444444444444444, \"#bd3786\"], [0.5555555555555556, \"#d8576b\"], [0.6666666666666666, \"#ed7953\"], [0.7777777777777778, \"#fb9f3a\"], [0.8888888888888888, \"#fdca26\"], [1.0, \"#f0f921\"]], \"type\": \"histogram2dcontour\"}], \"mesh3d\": [{\"colorbar\": {\"outlinewidth\": 0, \"ticks\": \"\"}, \"type\": \"mesh3d\"}], \"parcoords\": [{\"line\": {\"colorbar\": {\"outlinewidth\": 0, \"ticks\": \"\"}}, \"type\": \"parcoords\"}], \"scatter\": [{\"marker\": {\"colorbar\": {\"outlinewidth\": 0, \"ticks\": \"\"}}, \"type\": \"scatter\"}], \"scatter3d\": [{\"line\": {\"colorbar\": {\"outlinewidth\": 0, \"ticks\": \"\"}}, \"marker\": {\"colorbar\": {\"outlinewidth\": 0, \"ticks\": \"\"}}, \"type\": \"scatter3d\"}], \"scattercarpet\": [{\"marker\": {\"colorbar\": {\"outlinewidth\": 0, \"ticks\": \"\"}}, \"type\": \"scattercarpet\"}], \"scattergeo\": [{\"marker\": {\"colorbar\": {\"outlinewidth\": 0, \"ticks\": \"\"}}, \"type\": \"scattergeo\"}], \"scattergl\": [{\"marker\": {\"colorbar\": {\"outlinewidth\": 0, \"ticks\": \"\"}}, \"type\": \"scattergl\"}], \"scattermapbox\": [{\"marker\": {\"colorbar\": {\"outlinewidth\": 0, \"ticks\": \"\"}}, \"type\": \"scattermapbox\"}], \"scatterpolar\": [{\"marker\": {\"colorbar\": {\"outlinewidth\": 0, \"ticks\": \"\"}}, \"type\": \"scatterpolar\"}], \"scatterpolargl\": [{\"marker\": {\"colorbar\": {\"outlinewidth\": 0, \"ticks\": \"\"}}, \"type\": \"scatterpolargl\"}], \"scatterternary\": [{\"marker\": {\"colorbar\": {\"outlinewidth\": 0, \"ticks\": \"\"}}, \"type\": \"scatterternary\"}], \"surface\": [{\"colorbar\": {\"outlinewidth\": 0, \"ticks\": \"\"}, \"colorscale\": [[0.0, \"#0d0887\"], [0.1111111111111111, \"#46039f\"], [0.2222222222222222, \"#7201a8\"], [0.3333333333333333, \"#9c179e\"], [0.4444444444444444, \"#bd3786\"], [0.5555555555555556, \"#d8576b\"], [0.6666666666666666, \"#ed7953\"], [0.7777777777777778, \"#fb9f3a\"], [0.8888888888888888, \"#fdca26\"], [1.0, \"#f0f921\"]], \"type\": \"surface\"}], \"table\": [{\"cells\": {\"fill\": {\"color\": \"#EBF0F8\"}, \"line\": {\"color\": \"white\"}}, \"header\": {\"fill\": {\"color\": \"#C8D4E3\"}, \"line\": {\"color\": \"white\"}}, \"type\": \"table\"}]}, \"layout\": {\"annotationdefaults\": {\"arrowcolor\": \"#2a3f5f\", \"arrowhead\": 0, \"arrowwidth\": 1}, \"colorscale\": {\"diverging\": [[0, \"#8e0152\"], [0.1, \"#c51b7d\"], [0.2, \"#de77ae\"], [0.3, \"#f1b6da\"], [0.4, \"#fde0ef\"], [0.5, \"#f7f7f7\"], [0.6, \"#e6f5d0\"], [0.7, \"#b8e186\"], [0.8, \"#7fbc41\"], [0.9, \"#4d9221\"], [1, \"#276419\"]], \"sequential\": [[0.0, \"#0d0887\"], [0.1111111111111111, \"#46039f\"], [0.2222222222222222, \"#7201a8\"], [0.3333333333333333, \"#9c179e\"], [0.4444444444444444, \"#bd3786\"], [0.5555555555555556, \"#d8576b\"], [0.6666666666666666, \"#ed7953\"], [0.7777777777777778, \"#fb9f3a\"], [0.8888888888888888, \"#fdca26\"], [1.0, \"#f0f921\"]], \"sequentialminus\": [[0.0, \"#0d0887\"], [0.1111111111111111, \"#46039f\"], [0.2222222222222222, \"#7201a8\"], [0.3333333333333333, \"#9c179e\"], [0.4444444444444444, \"#bd3786\"], [0.5555555555555556, \"#d8576b\"], [0.6666666666666666, \"#ed7953\"], [0.7777777777777778, \"#fb9f3a\"], [0.8888888888888888, \"#fdca26\"], [1.0, \"#f0f921\"]]}, \"colorway\": [\"#636efa\", \"#EF553B\", \"#00cc96\", \"#ab63fa\", \"#FFA15A\", \"#19d3f3\", \"#FF6692\", \"#B6E880\", \"#FF97FF\", \"#FECB52\"], \"font\": {\"color\": \"#2a3f5f\"}, \"geo\": {\"bgcolor\": \"white\", \"lakecolor\": \"white\", \"landcolor\": \"#E5ECF6\", \"showlakes\": true, \"showland\": true, \"subunitcolor\": \"white\"}, \"hoverlabel\": {\"align\": \"left\"}, \"hovermode\": \"closest\", \"mapbox\": {\"style\": \"light\"}, \"paper_bgcolor\": \"white\", \"plot_bgcolor\": \"#E5ECF6\", \"polar\": {\"angularaxis\": {\"gridcolor\": \"white\", \"linecolor\": \"white\", \"ticks\": \"\"}, \"bgcolor\": \"#E5ECF6\", \"radialaxis\": {\"gridcolor\": \"white\", \"linecolor\": \"white\", \"ticks\": \"\"}}, \"scene\": {\"xaxis\": {\"backgroundcolor\": \"#E5ECF6\", \"gridcolor\": \"white\", \"gridwidth\": 2, \"linecolor\": \"white\", \"showbackground\": true, \"ticks\": \"\", \"zerolinecolor\": \"white\"}, \"yaxis\": {\"backgroundcolor\": \"#E5ECF6\", \"gridcolor\": \"white\", \"gridwidth\": 2, \"linecolor\": \"white\", \"showbackground\": true, \"ticks\": \"\", \"zerolinecolor\": \"white\"}, \"zaxis\": {\"backgroundcolor\": \"#E5ECF6\", \"gridcolor\": \"white\", \"gridwidth\": 2, \"linecolor\": \"white\", \"showbackground\": true, \"ticks\": \"\", \"zerolinecolor\": \"white\"}}, \"shapedefaults\": {\"line\": {\"color\": \"#2a3f5f\"}}, \"ternary\": {\"aaxis\": {\"gridcolor\": \"white\", \"linecolor\": \"white\", \"ticks\": \"\"}, \"baxis\": {\"gridcolor\": \"white\", \"linecolor\": \"white\", \"ticks\": \"\"}, \"bgcolor\": \"#E5ECF6\", \"caxis\": {\"gridcolor\": \"white\", \"linecolor\": \"white\", \"ticks\": \"\"}}, \"title\": {\"x\": 0.05}, \"xaxis\": {\"automargin\": true, \"gridcolor\": \"white\", \"linecolor\": \"white\", \"ticks\": \"\", \"zerolinecolor\": \"white\", \"zerolinewidth\": 2}, \"yaxis\": {\"automargin\": true, \"gridcolor\": \"white\", \"linecolor\": \"white\", \"ticks\": \"\", \"zerolinecolor\": \"white\", \"zerolinewidth\": 2}}}, \"title\": {\"text\": \"Model performance\"}, \"width\": 800, \"xaxis\": {\"domain\": [0, 0.6], \"gridcolor\": \"rgb(255, 255, 255)\", \"gridwidth\": 2, \"ticklen\": 5, \"title\": {\"text\": \"false positive rate\"}}, \"xaxis2\": {\"domain\": [0.7, 1], \"gridcolor\": \"rgb(255, 255, 255)\", \"tickangle\": 90}, \"yaxis\": {\"gridcolor\": \"rgb(255, 255, 255)\", \"gridwidth\": 2, \"ticklen\": 5, \"title\": {\"text\": \"true positive rate\"}, \"zerolinewidth\": 1}, \"yaxis2\": {\"anchor\": \"x2\", \"gridcolor\": \"rgb(255, 255, 255)\"}},\n",
       "                        {\"responsive\": true}\n",
       "                    ).then(function(){\n",
       "                            \n",
       "var gd = document.getElementById('eaac2bac-adb3-42e0-b372-32f5fcd3c188');\n",
       "var x = new MutationObserver(function (mutations, observer) {{\n",
       "        var display = window.getComputedStyle(gd).display;\n",
       "        if (!display || display === 'none') {{\n",
       "            console.log([gd, 'removed!']);\n",
       "            Plotly.purge(gd);\n",
       "            observer.disconnect();\n",
       "        }}\n",
       "}});\n",
       "\n",
       "// Listen for the removal of the full notebook cells\n",
       "var notebookContainer = gd.closest('#notebook-container');\n",
       "if (notebookContainer) {{\n",
       "    x.observe(notebookContainer, {childList: true});\n",
       "}}\n",
       "\n",
       "// Listen for the clearing of the current output cell\n",
       "var outputEl = gd.closest('.output');\n",
       "if (outputEl) {{\n",
       "    x.observe(outputEl, {childList: true});\n",
       "}}\n",
       "\n",
       "                        })\n",
       "                };\n",
       "                });\n",
       "            </script>\n",
       "        </div>"
      ]
     },
     "metadata": {},
     "output_type": "display_data"
    },
    {
     "data": {
      "image/png": "[encoded data removed]",
      "text/plain": [
       "<Figure size 576x396 with 1 Axes>"
      ]
     },
     "metadata": {},
     "output_type": "display_data"
    }
   ],
   "source": [
    "predictions2 = telecom_churn_prediction_alg(knn,os_df1_X, test_X, os_df1_y, test_Y, threshold_plot=True)"
   ]
  },
  {
   "cell_type": "code",
   "execution_count": 59,
   "metadata": {},
   "outputs": [
    {
     "data": {
      "text/plain": [
       "RandomForestClassifier(bootstrap=True, class_weight=None, criterion='gini',\n",
       "                       max_depth=None, max_features='auto', max_leaf_nodes=None,\n",
       "                       min_impurity_decrease=0.0, min_impurity_split=None,\n",
       "                       min_samples_leaf=1, min_samples_split=2,\n",
       "                       min_weight_fraction_leaf=0.0, n_estimators=100,\n",
       "                       n_jobs=None, oob_score=False, random_state=0, verbose=0,\n",
       "                       warm_start=False)"
      ]
     },
     "execution_count": 59,
     "metadata": {},
     "output_type": "execute_result"
    }
   ],
   "source": [
    "from sklearn.ensemble import RandomForestClassifier\n",
    "rf = RandomForestClassifier(n_estimators = 100, random_state = 0)\n",
    "rf.fit(train_osx, train_osy)"
   ]
  },
  {
   "cell_type": "code",
   "execution_count": 60,
   "metadata": {},
   "outputs": [],
   "source": [
    "predictions = rf.predict(test_X)"
   ]
  },
  {
   "cell_type": "code",
   "execution_count": 64,
   "metadata": {},
   "outputs": [],
   "source": [
    "from sklearn.tree import export_graphviz\n",
    "from IPython.display import Image  \n",
    "features = list(scaled.drop(columns=['target_id']).columns)\n",
    "import pydot\n",
    "rf_small = RandomForestClassifier(n_estimators=10, max_depth = 3)\n",
    "rf_small.fit(train_X, train_Y)\n",
    "# Extract the small tree\n",
    "tree_small = rf_small.estimators_[5]\n",
    "# Save the tree as a png image\n",
    "export_graphviz(tree_small, out_file = 'small_tree.dot', feature_names = features, rounded = True, precision = 1)\n",
    "(graph, ) = pydot.graph_from_dot_file('small_tree.dot')\n",
    "graph.write_png('small_tree.png');"
   ]
  },
  {
   "cell_type": "code",
   "execution_count": 65,
   "metadata": {},
   "outputs": [
    {
     "data": {
      "image/png": "[encoded data removed]",
      "text/plain": [
       "<IPython.core.display.Image object>"
      ]
     },
     "execution_count": 65,
     "metadata": {},
     "output_type": "execute_result"
    }
   ],
   "source": [
    "Image('small_tree.png')"
   ]
  },
  {
   "cell_type": "code",
   "execution_count": 67,
   "metadata": {},
   "outputs": [
    {
     "data": {
      "image/png": "[encoded data removed]",
      "text/plain": [
       "<Figure size 576x396 with 1 Axes>"
      ]
     },
     "metadata": {},
     "output_type": "display_data"
    }
   ],
   "source": [
    "from sklearn.metrics import roc_auc_score\n",
    "from sklearn.metrics import roc_curve\n",
    "rf_roc_auc = roc_auc_score(test_Y, rf.predict(test_X))\n",
    "fpr, tpr, thresholds = roc_curve(test_Y, rf.predict_proba(test_X)[:,1])\n",
    "plt.figure()\n",
    "plt.plot(fpr, tpr, label='Random Forest Classifier (area = %0.2f)' % rf_roc_auc)\n",
    "plt.plot([0, 1], [0, 1],'r--')\n",
    "plt.xlim([0.0, 1.0])\n",
    "plt.ylim([0.0, 1.05])\n",
    "plt.xlabel('False Positive Rate')\n",
    "plt.ylabel('True Positive Rate')\n",
    "plt.title('Receiver operating characteristic')\n",
    "plt.legend(loc=\"lower right\")\n",
    "plt.savefig('Rf_ROC')\n",
    "plt.show()"
   ]
  },
  {
   "cell_type": "code",
   "execution_count": 68,
   "metadata": {},
   "outputs": [],
   "source": [
    "import xgboost as xgb\n",
    "from sklearn.metrics import roc_auc_score"
   ]
  },
  {
   "cell_type": "code",
   "execution_count": 69,
   "metadata": {},
   "outputs": [],
   "source": [
    "D_train = xgb.DMatrix(train_osx, label=train_osy)\n",
    "D_test = xgb.DMatrix(test_X, label=test_Y)"
   ]
  },
  {
   "cell_type": "code",
   "execution_count": 70,
   "metadata": {},
   "outputs": [],
   "source": [
    "param = {\n",
    "    'eta': 0.3, \n",
    "    'max_depth': 3,  \n",
    "    'objective': 'multi:softprob',  \n",
    "    'num_class': 3} \n",
    "\n",
    "steps = 20  # The number of training iterations"
   ]
  },
  {
   "cell_type": "code",
   "execution_count": 71,
   "metadata": {},
   "outputs": [],
   "source": [
    "model = xgb.train(param, D_train, steps)"
   ]
  },
  {
   "cell_type": "code",
   "execution_count": 72,
   "metadata": {},
   "outputs": [
    {
     "name": "stdout",
     "output_type": "stream",
     "text": [
      "Precision = 0.73\n",
      "Recall = 0.73\n",
      "Accuracy = 0.9259259259259259\n"
     ]
    }
   ],
   "source": [
    "import numpy as np\n",
    "from sklearn.metrics import precision_score, recall_score, accuracy_score\n",
    "Y_pred = model.predict(D_test)\n",
    "best_preds = np.asarray([np.argmax(line) for line in Y_pred])\n",
    "\n",
    "print(\"Precision = {}\".format(precision_score(test_Y, best_preds, average='macro')))\n",
    "print(\"Recall = {}\".format(recall_score(test_Y, best_preds, average='macro')))\n",
    "print(\"Accuracy = {}\".format(accuracy_score(test_Y, best_preds)))"
   ]
  },
  {
   "cell_type": "markdown",
   "metadata": {},
   "source": [
    "# ENSEMBLE"
   ]
  },
  {
   "cell_type": "code",
   "execution_count": 73,
   "metadata": {},
   "outputs": [],
   "source": [
    "from sklearn.ensemble import RandomForestClassifier, AdaBoostClassifier\n",
    "from sklearn.ensemble import GradientBoostingClassifier, ExtraTreesClassifier, VotingClassifier\n",
    "from sklearn.discriminant_analysis import LinearDiscriminantAnalysis\n",
    "from sklearn.linear_model import LogisticRegression\n",
    "from sklearn.neighbors import KNeighborsClassifier\n",
    "from sklearn.tree import DecisionTreeClassifier\n",
    "from sklearn.neural_network import MLPClassifier\n",
    "from sklearn.svm import SVC\n",
    "from sklearn.model_selection import GridSearchCV, cross_val_score, StratifiedKFold, learning_curve"
   ]
  },
  {
   "cell_type": "code",
   "execution_count": 74,
   "metadata": {},
   "outputs": [],
   "source": [
    "kfold = StratifiedKFold(n_splits=10)"
   ]
  },
  {
   "cell_type": "code",
   "execution_count": 75,
   "metadata": {},
   "outputs": [],
   "source": [
    "random_state = 2\n",
    "classifiers = []\n",
    "classifiers.append(SVC(random_state=random_state))\n",
    "classifiers.append(DecisionTreeClassifier(random_state=random_state))\n",
    "classifiers.append(AdaBoostClassifier(DecisionTreeClassifier(random_state=random_state),random_state=random_state,learning_rate=0.1))\n",
    "classifiers.append(RandomForestClassifier(random_state=random_state))\n",
    "classifiers.append(ExtraTreesClassifier(random_state=random_state))\n",
    "classifiers.append(GradientBoostingClassifier(random_state=random_state))\n",
    "classifiers.append(MLPClassifier(random_state=random_state))\n",
    "classifiers.append(KNeighborsClassifier())\n",
    "classifiers.append(LogisticRegression(random_state = random_state))\n",
    "classifiers.append(LinearDiscriminantAnalysis())"
   ]
  },
  {
   "cell_type": "code",
   "execution_count": 76,
   "metadata": {},
   "outputs": [],
   "source": [
    "cv_results = []\n",
    "for classifier in classifiers :\n",
    "    cv_results.append(cross_val_score(classifier, train_osx, y = train_osy, \n",
    "                                      scoring = \"f1\", cv = kfold, n_jobs=-1))"
   ]
  },
  {
   "cell_type": "code",
   "execution_count": 77,
   "metadata": {},
   "outputs": [],
   "source": [
    "cv_means = []\n",
    "cv_std = []\n",
    "for cv_result in cv_results:\n",
    "    cv_means.append(cv_result.mean())\n",
    "    cv_std.append(cv_result.std())"
   ]
  },
  {
   "cell_type": "code",
   "execution_count": 78,
   "metadata": {},
   "outputs": [],
   "source": [
    "cv_res = pd.DataFrame({\"CrossValMeans\":cv_means,\"CrossValerrors\": cv_std,\"Algorithm\":[\"SVC\",\"DecisionTree\",\"AdaBoost\",\n",
    "\"RandomForest\",\"ExtraTrees\",\"GradientBoosting\",\"MultipleLayerPerceptron\",\"KNeighboors\",\"LogisticRegression\",\"LinearDiscriminantAnalysis\"]})"
   ]
  },
  {
   "cell_type": "code",
   "execution_count": 79,
   "metadata": {},
   "outputs": [
    {
     "data": {
      "image/png": "[encoded data removed]",
      "text/plain": [
       "<Figure size 576x396 with 1 Axes>"
      ]
     },
     "metadata": {},
     "output_type": "display_data"
    }
   ],
   "source": [
    "g = sns.barplot(\"CrossValMeans\",\"Algorithm\",data = cv_res, palette=\"Set3\",orient = \"h\",**{'xerr':cv_std})\n",
    "g.set_xlabel(\"Mean Accuracy\")\n",
    "g = g.set_title(\"Cross validation scores\")"
   ]
  },
  {
   "cell_type": "code",
   "execution_count": 80,
   "metadata": {},
   "outputs": [
    {
     "name": "stdout",
     "output_type": "stream",
     "text": [
      "Fitting 10 folds for each of 112 candidates, totalling 1120 fits\n"
     ]
    },
    {
     "name": "stderr",
     "output_type": "stream",
     "text": [
      "[Parallel(n_jobs=4)]: Using backend LokyBackend with 4 concurrent workers.\n",
      "[Parallel(n_jobs=4)]: Done 552 tasks      | elapsed:    2.2s\n",
      "[Parallel(n_jobs=4)]: Done 1120 out of 1120 | elapsed:    4.0s finished\n"
     ]
    }
   ],
   "source": [
    "# Adaboost\n",
    "DTC = DecisionTreeClassifier()\n",
    "\n",
    "adaDTC = AdaBoostClassifier(DTC, random_state=7)\n",
    "\n",
    "ada_param_grid = {\"base_estimator__criterion\" : [\"gini\", \"entropy\"],\n",
    "              \"base_estimator__splitter\" :   [\"best\", \"random\"],\n",
    "              \"algorithm\" : [\"SAMME\",\"SAMME.R\"],\n",
    "              \"n_estimators\" :[1,2],\n",
    "              \"learning_rate\":  [0.0001, 0.001, 0.01, 0.1, 0.2, 0.3,1.5]}\n",
    "\n",
    "gsadaDTC = GridSearchCV(adaDTC,param_grid = ada_param_grid, cv=kfold, scoring=\"accuracy\", n_jobs= 4, verbose = 1)\n",
    "\n",
    "gsadaDTC.fit(train_osx,train_osy)\n",
    "\n",
    "ada_best = gsadaDTC.best_estimator_"
   ]
  },
  {
   "cell_type": "code",
   "execution_count": 81,
   "metadata": {},
   "outputs": [
    {
     "data": {
      "text/plain": [
       "0.9375"
      ]
     },
     "execution_count": 81,
     "metadata": {},
     "output_type": "execute_result"
    }
   ],
   "source": [
    "gsadaDTC.best_score_"
   ]
  },
  {
   "cell_type": "code",
   "execution_count": 82,
   "metadata": {},
   "outputs": [],
   "source": [
    "#changing kfold to 3\n",
    "kfold = StratifiedKFold(n_splits=3)"
   ]
  },
  {
   "cell_type": "code",
   "execution_count": 83,
   "metadata": {},
   "outputs": [
    {
     "name": "stdout",
     "output_type": "stream",
     "text": [
      "Fitting 3 folds for each of 54 candidates, totalling 162 fits\n"
     ]
    },
    {
     "name": "stderr",
     "output_type": "stream",
     "text": [
      "[Parallel(n_jobs=-1)]: Using backend LokyBackend with 4 concurrent workers.\n",
      "[Parallel(n_jobs=-1)]: Done  42 tasks      | elapsed:    4.0s\n",
      "[Parallel(n_jobs=-1)]: Done 162 out of 162 | elapsed:   16.9s finished\n"
     ]
    }
   ],
   "source": [
    "# RFC Parameters tunning \n",
    "RFC = RandomForestClassifier()\n",
    "\n",
    "\n",
    "## Search grid for optimal parameters\n",
    "rf_param_grid = {\"max_depth\": [None],\n",
    "              \"max_features\": [1, 3, 10],\n",
    "              \"min_samples_split\": [2, 3, 10],\n",
    "              \"min_samples_leaf\": [1, 3, 10],\n",
    "              \"bootstrap\": [False],\n",
    "              \"n_estimators\" :[100,300],\n",
    "              \"criterion\": [\"gini\"]}\n",
    "\n",
    "\n",
    "gsRFC = GridSearchCV(RFC,param_grid = rf_param_grid, cv=kfold, scoring=\"f1\", n_jobs= -1, verbose = 1)\n",
    "\n",
    "gsRFC.fit(train_osx,train_osy)\n",
    "\n",
    "RFC_best = gsRFC.best_estimator_"
   ]
  },
  {
   "cell_type": "code",
   "execution_count": 84,
   "metadata": {},
   "outputs": [
    {
     "data": {
      "text/plain": [
       "RandomForestClassifier(bootstrap=False, class_weight=None, criterion='gini',\n",
       "                       max_depth=None, max_features=3, max_leaf_nodes=None,\n",
       "                       min_impurity_decrease=0.0, min_impurity_split=None,\n",
       "                       min_samples_leaf=1, min_samples_split=2,\n",
       "                       min_weight_fraction_leaf=0.0, n_estimators=100,\n",
       "                       n_jobs=None, oob_score=False, random_state=None,\n",
       "                       verbose=0, warm_start=False)"
      ]
     },
     "execution_count": 84,
     "metadata": {},
     "output_type": "execute_result"
    }
   ],
   "source": [
    "RFC_best"
   ]
  },
  {
   "cell_type": "code",
   "execution_count": 85,
   "metadata": {},
   "outputs": [
    {
     "data": {
      "text/plain": [
       "0.9784783522488439"
      ]
     },
     "execution_count": 85,
     "metadata": {},
     "output_type": "execute_result"
    }
   ],
   "source": [
    "gsRFC.best_score_"
   ]
  },
  {
   "cell_type": "code",
   "execution_count": null,
   "metadata": {},
   "outputs": [],
   "source": []
  }
 ],
 "metadata": {
  "kernelspec": {
   "display_name": "Python 3",
   "language": "python",
   "name": "python3"
  },
  "language_info": {
   "codemirror_mode": {
    "name": "ipython",
    "version": 3
   },
   "file_extension": ".py",
   "mimetype": "text/x-python",
   "name": "python",
   "nbconvert_exporter": "python",
   "pygments_lexer": "ipython3",
   "version": "3.7.3"
  }
 },
 "nbformat": 4,
 "nbformat_minor": 2
}
